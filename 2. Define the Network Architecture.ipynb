{
 "cells": [
  {
   "cell_type": "markdown",
   "metadata": {},
   "source": [
    "## Define the Convolutional Neural Network\n",
    "\n",
    "After you've looked at the data you're working with and, in this case, know the shapes of the images and of the keypoints, you are ready to define a convolutional neural network that can *learn* from this data.\n",
    "\n",
    "In this notebook and in `models.py`, you will:\n",
    "1. Define a CNN with images as input and keypoints as output\n",
    "2. Construct the transformed FaceKeypointsDataset, just as before\n",
    "3. Train the CNN on the training data, tracking loss\n",
    "4. See how the trained model performs on test data\n",
    "5. If necessary, modify the CNN structure and model hyperparameters, so that it performs *well* **\\***\n",
    "\n",
    "**\\*** What does *well* mean?\n",
    "\n",
    "\"Well\" means that the model's loss decreases during training **and**, when applied to test image data, the model produces keypoints that closely match the true keypoints of each face. And you'll see examples of this later in the notebook.\n",
    "\n",
    "---\n"
   ]
  },
  {
   "cell_type": "markdown",
   "metadata": {},
   "source": [
    "## CNN Architecture\n",
    "\n",
    "Recall that CNN's are defined by a few types of layers:\n",
    "* Convolutional layers\n",
    "* Maxpooling layers\n",
    "* Fully-connected layers\n",
    "\n",
    "You are required to use the above layers and encouraged to add multiple convolutional layers and things like dropout layers that may prevent overfitting. You are also encouraged to look at literature on keypoint detection, such as [this paper](https://arxiv.org/pdf/1710.00977.pdf), to help you determine the structure of your network.\n",
    "\n",
    "\n",
    "### TODO: Define your model in the provided file `models.py` file\n",
    "\n",
    "This file is mostly empty but contains the expected name and some TODO's for creating your model.\n",
    "\n",
    "---"
   ]
  },
  {
   "cell_type": "markdown",
   "metadata": {},
   "source": [
    "## PyTorch Neural Nets\n",
    "\n",
    "To define a neural network in PyTorch, you define the layers of a model in the function `__init__` and define the feedforward behavior of a network that employs those initialized layers in the function `forward`, which takes in an input image tensor, `x`. The structure of this Net class is shown below and left for you to fill in.\n",
    "\n",
    "Note: During training, PyTorch will be able to perform backpropagation by keeping track of the network's feedforward behavior and using autograd to calculate the update to the weights in the network.\n",
    "\n",
    "#### Define the Layers in ` __init__`\n",
    "As a reminder, a conv/pool layer may be defined like this (in `__init__`):\n",
    "```\n",
    "# 1 input image channel (for grayscale images), 32 output channels/feature maps, 3x3 square convolution kernel\n",
    "self.conv1 = nn.Conv2d(1, 32, 3)\n",
    "\n",
    "# maxpool that uses a square window of kernel_size=2, stride=2\n",
    "self.pool = nn.MaxPool2d(2, 2)      \n",
    "```\n",
    "\n",
    "#### Refer to Layers in `forward`\n",
    "Then referred to in the `forward` function like this, in which the conv1 layer has a ReLu activation applied to it before maxpooling is applied:\n",
    "```\n",
    "x = self.pool(F.relu(self.conv1(x)))\n",
    "```\n",
    "\n",
    "Best practice is to place any layers whose weights will change during the training process in `__init__` and refer to them in the `forward` function; any layers or functions that always behave in the same way, such as a pre-defined activation function, should appear *only* in the `forward` function."
   ]
  },
  {
   "cell_type": "markdown",
   "metadata": {},
   "source": [
    "#### Why models.py\n",
    "\n",
    "You are tasked with defining the network in the `models.py` file so that any models you define can be saved and loaded by name in different notebooks in this project directory. For example, by defining a CNN class called `Net` in `models.py`, you can then create that same architecture in this and other notebooks by simply importing the class and instantiating a model:\n",
    "```\n",
    "    from models import Net\n",
    "    net = Net()\n",
    "```"
   ]
  },
  {
   "cell_type": "code",
   "execution_count": 1,
   "metadata": {},
   "outputs": [
    {
     "name": "stdout",
     "output_type": "stream",
     "text": [
      "mkdir: cannot create directory ‘/data’: File exists\n",
      "--2020-04-17 08:39:03--  https://s3.amazonaws.com/video.udacity-data.com/topher/2018/May/5aea1b91_train-test-data/train-test-data.zip\n",
      "Resolving s3.amazonaws.com (s3.amazonaws.com)... 52.217.40.38\n",
      "Connecting to s3.amazonaws.com (s3.amazonaws.com)|52.217.40.38|:443... connected.\n",
      "HTTP request sent, awaiting response... 200 OK\n",
      "Length: 338613624 (323M) [application/zip]\n",
      "Saving to: ‘/data/train-test-data.zip.2’\n",
      "\n",
      "train-test-data.zip 100%[===================>] 322.93M  69.3MB/s    in 4.6s    \n",
      "\n",
      "2020-04-17 08:39:07 (70.9 MB/s) - ‘/data/train-test-data.zip.2’ saved [338613624/338613624]\n",
      "\n",
      "Archive:  /data/train-test-data.zip\n"
     ]
    }
   ],
   "source": [
    "# load the data if you need to; if you have already loaded the data, you may comment this cell out\n",
    "# -- DO NOT CHANGE THIS CELL -- #\n",
    "!mkdir /data\n",
    "!wget -P /data/ https://s3.amazonaws.com/video.udacity-data.com/topher/2018/May/5aea1b91_train-test-data/train-test-data.zip\n",
    "!unzip -n /data/train-test-data.zip -d /data"
   ]
  },
  {
   "cell_type": "markdown",
   "metadata": {},
   "source": [
    "<div class=\"alert alert-info\">**Note:** Workspaces automatically close connections after 30 minutes of inactivity (including inactivity while training!). Use the code snippet below to keep your workspace alive during training. (The active_session context manager is imported below.)\n",
    "</div>\n",
    "```\n",
    "from workspace_utils import active_session\n",
    "\n",
    "with active_session():\n",
    "    train_model(num_epochs)\n",
    "```\n"
   ]
  },
  {
   "cell_type": "code",
   "execution_count": 2,
   "metadata": {},
   "outputs": [],
   "source": [
    "# import the usual resources\n",
    "import matplotlib.pyplot as plt\n",
    "import numpy as np\n",
    "\n",
    "# import utilities to keep workspaces alive during model training\n",
    "from workspace_utils import active_session\n",
    "\n",
    "# watch for any changes in model.py, if it changes, re-load it automatically\n",
    "%load_ext autoreload\n",
    "%autoreload 2"
   ]
  },
  {
   "cell_type": "code",
   "execution_count": 3,
   "metadata": {},
   "outputs": [
    {
     "name": "stdout",
     "output_type": "stream",
     "text": [
      "Net(\n",
      "  (conv1): Conv2d(1, 32, kernel_size=(5, 5), stride=(1, 1))\n",
      "  (bn1): BatchNorm2d(32, eps=1e-05, momentum=0.1, affine=True, track_running_stats=True)\n",
      "  (pool): MaxPool2d(kernel_size=2, stride=2, padding=0, dilation=1, ceil_mode=False)\n",
      "  (conv2): Conv2d(32, 64, kernel_size=(5, 5), stride=(1, 1))\n",
      "  (bn2): BatchNorm2d(64, eps=1e-05, momentum=0.1, affine=True, track_running_stats=True)\n",
      "  (fc1): Linear(in_features=28224, out_features=1000, bias=True)\n",
      "  (drop1): Dropout(p=0.4)\n",
      "  (fc2): Linear(in_features=1000, out_features=500, bias=True)\n",
      "  (drop2): Dropout(p=0.4)\n",
      "  (fc3): Linear(in_features=500, out_features=136, bias=True)\n",
      ")\n"
     ]
    }
   ],
   "source": [
    "## TODO: Define the Net in models.py\n",
    "\n",
    "import torch\n",
    "import torch.nn as nn\n",
    "import torch.nn.functional as F\n",
    "# import torch.backends.cudnn as cudnn\n",
    "\n",
    "## TODO: Once you've define the network, you can instantiate it\n",
    "# one example conv layer has been provided for you\n",
    "from models import Net, NaimishNet\n",
    "\n",
    "# net = NaimishNet()\n",
    "net = Net()\n",
    "# net = nn.DataParallel(net, device_ids=[0])\n",
    "\n",
    "# cudnn.benchmark = True\n",
    "# net.cuda()\n",
    "\n",
    "print(net)"
   ]
  },
  {
   "cell_type": "code",
   "execution_count": 4,
   "metadata": {},
   "outputs": [
    {
     "data": {
      "text/plain": [
       "Net(\n",
       "  (conv1): Conv2d(1, 32, kernel_size=(5, 5), stride=(1, 1))\n",
       "  (bn1): BatchNorm2d(32, eps=1e-05, momentum=0.1, affine=True, track_running_stats=True)\n",
       "  (pool): MaxPool2d(kernel_size=2, stride=2, padding=0, dilation=1, ceil_mode=False)\n",
       "  (conv2): Conv2d(32, 64, kernel_size=(5, 5), stride=(1, 1))\n",
       "  (bn2): BatchNorm2d(64, eps=1e-05, momentum=0.1, affine=True, track_running_stats=True)\n",
       "  (fc1): Linear(in_features=28224, out_features=1000, bias=True)\n",
       "  (drop1): Dropout(p=0.4)\n",
       "  (fc2): Linear(in_features=1000, out_features=500, bias=True)\n",
       "  (drop2): Dropout(p=0.4)\n",
       "  (fc3): Linear(in_features=500, out_features=136, bias=True)\n",
       ")"
      ]
     },
     "execution_count": 4,
     "metadata": {},
     "output_type": "execute_result"
    }
   ],
   "source": [
    "#Initialize weights\n",
    "def init_weights(m):\n",
    "    if type(m) == nn.Linear:\n",
    "        torch.nn.init.xavier_uniform_(m.weight)\n",
    "        m.bias.data.fill_(0)\n",
    "\n",
    "net.apply(init_weights)"
   ]
  },
  {
   "cell_type": "markdown",
   "metadata": {
    "collapsed": true
   },
   "source": [
    "## Transform the dataset \n",
    "\n",
    "To prepare for training, create a transformed dataset of images and keypoints.\n",
    "\n",
    "### TODO: Define a data transform\n",
    "\n",
    "In PyTorch, a convolutional neural network expects a torch image of a consistent size as input. For efficient training, and so your model's loss does not blow up during training, it is also suggested that you normalize the input images and keypoints. The necessary transforms have been defined in `data_load.py` and you **do not** need to modify these; take a look at this file (you'll see the same transforms that were defined and applied in Notebook 1).\n",
    "\n",
    "To define the data transform below, use a [composition](http://pytorch.org/tutorials/beginner/data_loading_tutorial.html#compose-transforms) of:\n",
    "1. Rescaling and/or cropping the data, such that you are left with a square image (the suggested size is 224x224px)\n",
    "2. Normalizing the images and keypoints; turning each RGB image into a grayscale image with a color range of [0, 1] and transforming the given keypoints into a range of [-1, 1]\n",
    "3. Turning these images and keypoints into Tensors\n",
    "\n",
    "These transformations have been defined in `data_load.py`, but it's up to you to call them and create a `data_transform` below. **This transform will be applied to the training data and, later, the test data**. It will change how you go about displaying these images and keypoints, but these steps are essential for efficient training.\n",
    "\n",
    "As a note, should you want to perform data augmentation (which is optional in this project), and randomly rotate or shift these images, a square image size will be useful; rotating a 224x224 image by 90 degrees will result in the same shape of output."
   ]
  },
  {
   "cell_type": "code",
   "execution_count": 5,
   "metadata": {},
   "outputs": [],
   "source": [
    "from torch.utils.data import Dataset, DataLoader\n",
    "from torchvision import transforms, utils\n",
    "\n",
    "# the dataset we created in Notebook 1 is copied in the helper file `data_load.py`\n",
    "from data_load import FacialKeypointsDataset\n",
    "# the transforms we defined in Notebook 1 are in the helper file `data_load.py`\n",
    "from data_load import Rescale, RandomCrop, Normalize, ToTensor\n",
    "\n",
    "\n",
    "## TODO: define the data_transform using transforms.Compose([all tx's, . , .])\n",
    "# order matters! i.e. rescaling should come before a smaller crop\n",
    "data_transform = transforms.Compose([Rescale(100),\n",
    "                                     RandomCrop(96),\n",
    "                                     Normalize(),\n",
    "                                     ToTensor()])\n",
    "\n",
    "# testing that you've defined a transform\n",
    "assert(data_transform is not None), 'Define a data_transform'"
   ]
  },
  {
   "cell_type": "code",
   "execution_count": 6,
   "metadata": {},
   "outputs": [
    {
     "name": "stdout",
     "output_type": "stream",
     "text": [
      "Number of images:  3462\n",
      "0 torch.Size([1, 96, 96]) torch.Size([68, 2])\n",
      "1 torch.Size([1, 96, 96]) torch.Size([68, 2])\n",
      "2 torch.Size([1, 96, 96]) torch.Size([68, 2])\n",
      "3 torch.Size([1, 96, 96]) torch.Size([68, 2])\n"
     ]
    }
   ],
   "source": [
    "# create the transformed dataset\n",
    "transformed_dataset = FacialKeypointsDataset(csv_file='/data/training_frames_keypoints.csv',\n",
    "                                             root_dir='/data/training/',\n",
    "                                             transform=data_transform)\n",
    "\n",
    "\n",
    "print('Number of images: ', len(transformed_dataset))\n",
    "\n",
    "# iterate through the transformed dataset and print some stats about the first few samples\n",
    "for i in range(4):\n",
    "    sample = transformed_dataset[i]\n",
    "    print(i, sample['image'].size(), sample['keypoints'].size())"
   ]
  },
  {
   "cell_type": "markdown",
   "metadata": {},
   "source": [
    "## Batching and loading data\n",
    "\n",
    "Next, having defined the transformed dataset, we can use PyTorch's DataLoader class to load the training data in batches of whatever size as well as to shuffle the data for training the model. You can read more about the parameters of the DataLoader, in [this documentation](http://pytorch.org/docs/master/data.html).\n",
    "\n",
    "#### Batch size\n",
    "Decide on a good batch size for training your model. Try both small and large batch sizes and note how the loss decreases as the model trains. Too large a batch size may cause your model to crash and/or run out of memory while training.\n",
    "\n",
    "**Note for Windows users**: Please change the `num_workers` to 0 or you may face some issues with your DataLoader failing."
   ]
  },
  {
   "cell_type": "code",
   "execution_count": 7,
   "metadata": {},
   "outputs": [],
   "source": [
    "# load training data in batches\n",
    "batch_size = 10\n",
    "\n",
    "train_loader = DataLoader(transformed_dataset, \n",
    "                          batch_size=batch_size,\n",
    "                          shuffle=True, \n",
    "                          num_workers=0)\n"
   ]
  },
  {
   "cell_type": "markdown",
   "metadata": {},
   "source": [
    "## Before training\n",
    "\n",
    "Take a look at how this model performs before it trains. You should see that the keypoints it predicts start off in one spot and don't match the keypoints on a face at all! It's interesting to visualize this behavior so that you can compare it to the model after training and see how the model has improved.\n",
    "\n",
    "#### Load in the test dataset\n",
    "\n",
    "The test dataset is one that this model has *not* seen before, meaning it has not trained with these images. We'll load in this test data and before and after training, see how your model performs on this set!\n",
    "\n",
    "To visualize this test data, we have to go through some un-transformation steps to turn our images into python images from tensors and to turn our keypoints back into a recognizable range. "
   ]
  },
  {
   "cell_type": "code",
   "execution_count": 8,
   "metadata": {},
   "outputs": [],
   "source": [
    "# load in the test data, using the dataset class\n",
    "# AND apply the data_transform you defined above\n",
    "\n",
    "# create the test dataset\n",
    "test_dataset = FacialKeypointsDataset(csv_file='/data/test_frames_keypoints.csv',\n",
    "                                             root_dir='/data/test/',\n",
    "                                             transform=data_transform)\n",
    "\n"
   ]
  },
  {
   "cell_type": "code",
   "execution_count": 9,
   "metadata": {},
   "outputs": [],
   "source": [
    "# load test data in batches\n",
    "batch_size = 10\n",
    "\n",
    "test_loader = DataLoader(test_dataset, \n",
    "                          batch_size=batch_size,\n",
    "                          shuffle=True, \n",
    "                          num_workers=0)"
   ]
  },
  {
   "cell_type": "markdown",
   "metadata": {},
   "source": [
    "## Apply the model on a test sample\n",
    "\n",
    "To test the model on a test sample of data, you have to follow these steps:\n",
    "1. Extract the image and ground truth keypoints from a sample\n",
    "2. Wrap the image in a Variable, so that the net can process it as input and track how it changes as the image moves through the network.\n",
    "3. Make sure the image is a FloatTensor, which the model expects.\n",
    "4. Forward pass the image through the net to get the predicted, output keypoints.\n",
    "\n",
    "This function test how the network performs on the first batch of test data. It returns the images, the transformed images, the predicted keypoints (produced by the model), and the ground truth keypoints."
   ]
  },
  {
   "cell_type": "code",
   "execution_count": 10,
   "metadata": {},
   "outputs": [],
   "source": [
    "# test the model on a batch of test images\n",
    "\n",
    "def net_sample_output():\n",
    "    \n",
    "    # iterate through the test dataset\n",
    "    for i, sample in enumerate(test_loader):\n",
    "        \n",
    "        # get sample data: images and ground truth keypoints\n",
    "        images = sample['image']\n",
    "        key_pts = sample['keypoints']\n",
    "\n",
    "        # convert images to FloatTensors\n",
    "        images = images.type(torch.FloatTensor)\n",
    "\n",
    "        # forward pass to get net output\n",
    "        output_pts = net(images)\n",
    "        \n",
    "        # reshape to batch_size x 68 x 2 pts\n",
    "        output_pts = output_pts.view(output_pts.size()[0], 68, -1)\n",
    "        \n",
    "        # break after first image is tested\n",
    "        if i == 0:\n",
    "            return images, output_pts, key_pts\n",
    "            "
   ]
  },
  {
   "cell_type": "markdown",
   "metadata": {},
   "source": [
    "#### Debugging tips\n",
    "\n",
    "If you get a size or dimension error here, make sure that your network outputs the expected number of keypoints! Or if you get a Tensor type error, look into changing the above code that casts the data into float types: `images = images.type(torch.FloatTensor)`."
   ]
  },
  {
   "cell_type": "code",
   "execution_count": 11,
   "metadata": {},
   "outputs": [
    {
     "name": "stdout",
     "output_type": "stream",
     "text": [
      "torch.Size([10, 1, 96, 96])\n",
      "torch.Size([10, 68, 2])\n",
      "torch.Size([10, 68, 2])\n"
     ]
    }
   ],
   "source": [
    "# call the above function\n",
    "# returns: test images, test predicted keypoints, test ground truth keypoints\n",
    "test_images, test_outputs, gt_pts = net_sample_output()\n",
    "\n",
    "# print out the dimensions of the data to see if they make sense\n",
    "print(test_images.data.size())\n",
    "print(test_outputs.data.size())\n",
    "print(gt_pts.size())"
   ]
  },
  {
   "cell_type": "markdown",
   "metadata": {},
   "source": [
    "## Visualize the predicted keypoints\n",
    "\n",
    "Once we've had the model produce some predicted output keypoints, we can visualize these points in a way that's similar to how we've displayed this data before, only this time, we have to \"un-transform\" the image/keypoint data to display it.\n",
    "\n",
    "Note that I've defined a *new* function, `show_all_keypoints` that displays a grayscale image, its predicted keypoints and its ground truth keypoints (if provided)."
   ]
  },
  {
   "cell_type": "code",
   "execution_count": 12,
   "metadata": {},
   "outputs": [],
   "source": [
    "def show_all_keypoints(image, predicted_key_pts, gt_pts=None):\n",
    "    \"\"\"Show image with predicted keypoints\"\"\"\n",
    "    # image is grayscale\n",
    "    plt.imshow(image, cmap='gray')\n",
    "    plt.scatter(predicted_key_pts[:, 0], predicted_key_pts[:, 1], s=20, marker='.', c='m')\n",
    "    # plot ground truth points as green pts\n",
    "    if gt_pts is not None:\n",
    "        plt.scatter(gt_pts[:, 0], gt_pts[:, 1], s=20, marker='.', c='g')\n"
   ]
  },
  {
   "cell_type": "markdown",
   "metadata": {},
   "source": [
    "#### Un-transformation\n",
    "\n",
    "Next, you'll see a helper function. `visualize_output` that takes in a batch of images, predicted keypoints, and ground truth keypoints and displays a set of those images and their true/predicted keypoints.\n",
    "\n",
    "This function's main role is to take batches of image and keypoint data (the input and output of your CNN), and transform them into numpy images and un-normalized keypoints (x, y) for normal display. The un-transformation process turns keypoints and images into numpy arrays from Tensors *and* it undoes the keypoint normalization done in the Normalize() transform; it's assumed that you applied these transformations when you loaded your test data."
   ]
  },
  {
   "cell_type": "code",
   "execution_count": 13,
   "metadata": {},
   "outputs": [
    {
     "data": {
      "image/png": "[encoded data removed]",
      "text/plain": [
       "<matplotlib.figure.Figure at 0x7f4e2d220cf8>"
      ]
     },
     "metadata": {
      "needs_background": "light"
     },
     "output_type": "display_data"
    },
    {
     "data": {
      "image/png": "[encoded data removed]",
      "text/plain": [
       "<matplotlib.figure.Figure at 0x7f4e20a09438>"
      ]
     },
     "metadata": {
      "needs_background": "light"
     },
     "output_type": "display_data"
    },
    {
     "data": {
      "image/png": "[encoded data removed]",
      "text/plain": [
       "<matplotlib.figure.Figure at 0x7f4e209d72e8>"
      ]
     },
     "metadata": {
      "needs_background": "light"
     },
     "output_type": "display_data"
    },
    {
     "data": {
      "image/png": "[encoded data removed]",
      "text/plain": [
       "<matplotlib.figure.Figure at 0x7f4e2099c3c8>"
      ]
     },
     "metadata": {
      "needs_background": "light"
     },
     "output_type": "display_data"
    },
    {
     "data": {
      "image/png": "[encoded data removed]",
      "text/plain": [
       "<matplotlib.figure.Figure at 0x7f4e2095f7f0>"
      ]
     },
     "metadata": {
      "needs_background": "light"
     },
     "output_type": "display_data"
    },
    {
     "data": {
      "image/png": "[encoded data removed]",
      "text/plain": [
       "<matplotlib.figure.Figure at 0x7f4e2091a438>"
      ]
     },
     "metadata": {
      "needs_background": "light"
     },
     "output_type": "display_data"
    },
    {
     "data": {
      "image/png": "[encoded data removed]",
      "text/plain": [
       "<matplotlib.figure.Figure at 0x7f4e208dc978>"
      ]
     },
     "metadata": {
      "needs_background": "light"
     },
     "output_type": "display_data"
    },
    {
     "data": {
      "image/png": "[encoded data removed]",
      "text/plain": [
       "<matplotlib.figure.Figure at 0x7f4e2089deb8>"
      ]
     },
     "metadata": {
      "needs_background": "light"
     },
     "output_type": "display_data"
    },
    {
     "data": {
      "image/png": "[encoded data removed]",
      "text/plain": [
       "<matplotlib.figure.Figure at 0x7f4e207e0f98>"
      ]
     },
     "metadata": {
      "needs_background": "light"
     },
     "output_type": "display_data"
    },
    {
     "data": {
      "image/png": "[encoded data removed]",
      "text/plain": [
       "<matplotlib.figure.Figure at 0x7f4e2081d7b8>"
      ]
     },
     "metadata": {
      "needs_background": "light"
     },
     "output_type": "display_data"
    }
   ],
   "source": [
    "# visualize the output\n",
    "# by default this shows a batch of 10 images\n",
    "def visualize_output(test_images, test_outputs, gt_pts=None, batch_size=10):\n",
    "\n",
    "    for i in range(batch_size):\n",
    "        plt.figure(figsize=(20,10))\n",
    "        ax = plt.subplot(1, batch_size, i+1)\n",
    "\n",
    "        # un-transform the image data\n",
    "        image = test_images[i].data   # get the image from it's Variable wrapper\n",
    "        image = image.numpy()   # convert to numpy array from a Tensor\n",
    "        image = np.transpose(image, (1, 2, 0))   # transpose to go from torch to numpy image\n",
    "\n",
    "        # un-transform the predicted key_pts data\n",
    "        predicted_key_pts = test_outputs[i].data\n",
    "        predicted_key_pts = predicted_key_pts.numpy()\n",
    "        # undo normalization of keypoints  \n",
    "        predicted_key_pts = predicted_key_pts*50.0+100\n",
    "        \n",
    "        # plot ground truth points for comparison, if they exist\n",
    "        ground_truth_pts = None\n",
    "        if gt_pts is not None:\n",
    "            ground_truth_pts = gt_pts[i]         \n",
    "            ground_truth_pts = ground_truth_pts*50.0+100\n",
    "        \n",
    "        # call show_all_keypoints\n",
    "        show_all_keypoints(np.squeeze(image), predicted_key_pts, ground_truth_pts)\n",
    "            \n",
    "        plt.axis('off')\n",
    "\n",
    "    plt.show()\n",
    "    \n",
    "# call it\n",
    "visualize_output(test_images, test_outputs, gt_pts)"
   ]
  },
  {
   "cell_type": "markdown",
   "metadata": {},
   "source": [
    "## Training\n",
    "\n",
    "#### Loss function\n",
    "Training a network to predict keypoints is different than training a network to predict a class; instead of outputting a distribution of classes and using cross entropy loss, you may want to choose a loss function that is suited for regression, which directly compares a predicted value and target value. Read about the various kinds of loss functions (like MSE or L1/SmoothL1 loss) in [this documentation](http://pytorch.org/docs/master/_modules/torch/nn/modules/loss.html).\n",
    "\n",
    "### TODO: Define the loss and optimization\n",
    "\n",
    "Next, you'll define how the model will train by deciding on the loss function and optimizer.\n",
    "\n",
    "---"
   ]
  },
  {
   "cell_type": "code",
   "execution_count": 14,
   "metadata": {},
   "outputs": [],
   "source": [
    "## TODO: Define the loss and optimization\n",
    "import torch.optim as optim\n",
    "\n",
    "criterion = nn.SmoothL1Loss()\n",
    "\n",
    "optimizer = optim.Adam(net.parameters(), lr=0.0001)\n"
   ]
  },
  {
   "cell_type": "markdown",
   "metadata": {},
   "source": [
    "## Training and Initial Observation\n",
    "\n",
    "Now, you'll train on your batched training data from `train_loader` for a number of epochs. \n",
    "\n",
    "To quickly observe how your model is training and decide on whether or not you should modify it's structure or hyperparameters, you're encouraged to start off with just one or two epochs at first. As you train, note how your the model's loss behaves over time: does it decrease quickly at first and then slow down? Does it take a while to decrease in the first place? What happens if you change the batch size of your training data or modify your loss function? etc. \n",
    "\n",
    "Use these initial observations to make changes to your model and decide on the best architecture before you train for many epochs and create a final model."
   ]
  },
  {
   "cell_type": "code",
   "execution_count": 15,
   "metadata": {},
   "outputs": [],
   "source": [
    "def train_net(n_epochs):\n",
    "\n",
    "    # prepare the net for training\n",
    "    net.train()\n",
    "\n",
    "    for epoch in range(n_epochs):  # loop over the dataset multiple times\n",
    "        \n",
    "        running_loss = 0.0\n",
    "\n",
    "        # train on batches of data, assumes you already have train_loader\n",
    "        for batch_i, data in enumerate(train_loader):\n",
    "            # get the input images and their corresponding labels\n",
    "            images = data['image']\n",
    "            key_pts = data['keypoints']\n",
    "\n",
    "            # flatten pts\n",
    "            key_pts = key_pts.view(key_pts.size(0), -1)\n",
    "\n",
    "            # convert variables to floats for regression loss\n",
    "            key_pts = key_pts.type(torch.FloatTensor)\n",
    "            images = images.type(torch.FloatTensor)\n",
    "\n",
    "            # forward pass to get outputs\n",
    "            output_pts = net(images)\n",
    "\n",
    "            # calculate the loss between predicted and target keypoints\n",
    "            loss = criterion(output_pts, key_pts)\n",
    "\n",
    "            # zero the parameter (weight) gradients\n",
    "            optimizer.zero_grad()\n",
    "            \n",
    "            # backward pass to calculate the weight gradients\n",
    "            loss.backward()\n",
    "\n",
    "            # update the weights\n",
    "            optimizer.step()\n",
    "\n",
    "            # print loss statistics\n",
    "            running_loss += loss.item()\n",
    "            if batch_i % 10 == 9:    # print every 10 batches\n",
    "                print('Epoch: {}, Batch: {}, Avg. Loss: {}'.format(epoch + 1, batch_i+1, running_loss/10))\n",
    "                running_loss = 0.0\n",
    "\n",
    "    print('Finished Training')\n"
   ]
  },
  {
   "cell_type": "code",
   "execution_count": 16,
   "metadata": {},
   "outputs": [
    {
     "name": "stdout",
     "output_type": "stream",
     "text": [
      "Epoch: 1, Batch: 10, Avg. Loss: 0.49250245094299316\n",
      "Epoch: 1, Batch: 20, Avg. Loss: 0.33159564435482025\n",
      "Epoch: 1, Batch: 30, Avg. Loss: 0.2813095211982727\n",
      "Epoch: 1, Batch: 40, Avg. Loss: 0.24307308942079545\n",
      "Epoch: 1, Batch: 50, Avg. Loss: 0.21503679007291793\n",
      "Epoch: 1, Batch: 60, Avg. Loss: 0.1922680050134659\n",
      "Epoch: 1, Batch: 70, Avg. Loss: 0.16226728707551957\n",
      "Epoch: 1, Batch: 80, Avg. Loss: 0.15541436523199081\n",
      "Epoch: 1, Batch: 90, Avg. Loss: 0.1536610707640648\n",
      "Epoch: 1, Batch: 100, Avg. Loss: 0.1342039443552494\n",
      "Epoch: 1, Batch: 110, Avg. Loss: 0.12812861949205398\n",
      "Epoch: 1, Batch: 120, Avg. Loss: 0.127865706384182\n",
      "Epoch: 1, Batch: 130, Avg. Loss: 0.11355294212698937\n",
      "Epoch: 1, Batch: 140, Avg. Loss: 0.11027216091752053\n",
      "Epoch: 1, Batch: 150, Avg. Loss: 0.1085356391966343\n",
      "Epoch: 1, Batch: 160, Avg. Loss: 0.105409125238657\n",
      "Epoch: 1, Batch: 170, Avg. Loss: 0.09655436351895333\n",
      "Epoch: 1, Batch: 180, Avg. Loss: 0.0950764499604702\n",
      "Epoch: 1, Batch: 190, Avg. Loss: 0.09283996969461442\n",
      "Epoch: 1, Batch: 200, Avg. Loss: 0.09395369067788124\n",
      "Epoch: 1, Batch: 210, Avg. Loss: 0.09425348266959191\n",
      "Epoch: 1, Batch: 220, Avg. Loss: 0.09113502874970436\n",
      "Epoch: 1, Batch: 230, Avg. Loss: 0.09016816690564156\n",
      "Epoch: 1, Batch: 240, Avg. Loss: 0.09143727272748947\n",
      "Epoch: 1, Batch: 250, Avg. Loss: 0.09487394988536835\n",
      "Epoch: 1, Batch: 260, Avg. Loss: 0.09889086782932281\n",
      "Epoch: 1, Batch: 270, Avg. Loss: 0.09201499000191689\n",
      "Epoch: 1, Batch: 280, Avg. Loss: 0.08792023509740829\n",
      "Epoch: 1, Batch: 290, Avg. Loss: 0.0883101373910904\n",
      "Epoch: 1, Batch: 300, Avg. Loss: 0.07468809485435486\n",
      "Epoch: 1, Batch: 310, Avg. Loss: 0.07390298992395401\n",
      "Epoch: 1, Batch: 320, Avg. Loss: 0.08218853324651718\n",
      "Epoch: 1, Batch: 330, Avg. Loss: 0.07757481560111046\n",
      "Epoch: 1, Batch: 340, Avg. Loss: 0.07466946318745613\n",
      "Epoch: 2, Batch: 10, Avg. Loss: 0.07205304615199566\n",
      "Epoch: 2, Batch: 20, Avg. Loss: 0.07340161353349686\n",
      "Epoch: 2, Batch: 30, Avg. Loss: 0.06974275670945644\n",
      "Epoch: 2, Batch: 40, Avg. Loss: 0.07247504852712154\n",
      "Epoch: 2, Batch: 50, Avg. Loss: 0.06227341368794441\n",
      "Epoch: 2, Batch: 60, Avg. Loss: 0.0715229157358408\n",
      "Epoch: 2, Batch: 70, Avg. Loss: 0.07456034570932388\n",
      "Epoch: 2, Batch: 80, Avg. Loss: 0.06738686412572861\n",
      "Epoch: 2, Batch: 90, Avg. Loss: 0.06757772713899612\n",
      "Epoch: 2, Batch: 100, Avg. Loss: 0.07436263412237168\n",
      "Epoch: 2, Batch: 110, Avg. Loss: 0.06350555270910263\n",
      "Epoch: 2, Batch: 120, Avg. Loss: 0.07138696350157261\n",
      "Epoch: 2, Batch: 130, Avg. Loss: 0.0708659291267395\n",
      "Epoch: 2, Batch: 140, Avg. Loss: 0.06057968251407146\n",
      "Epoch: 2, Batch: 150, Avg. Loss: 0.061759093031287196\n",
      "Epoch: 2, Batch: 160, Avg. Loss: 0.06382834948599339\n",
      "Epoch: 2, Batch: 170, Avg. Loss: 0.06754734590649605\n",
      "Epoch: 2, Batch: 180, Avg. Loss: 0.0662814449518919\n",
      "Epoch: 2, Batch: 190, Avg. Loss: 0.0727790031582117\n",
      "Epoch: 2, Batch: 200, Avg. Loss: 0.06418754383921624\n",
      "Epoch: 2, Batch: 210, Avg. Loss: 0.05494512431323528\n",
      "Epoch: 2, Batch: 220, Avg. Loss: 0.05978128761053085\n",
      "Epoch: 2, Batch: 230, Avg. Loss: 0.058732982724905014\n",
      "Epoch: 2, Batch: 240, Avg. Loss: 0.05851401649415493\n",
      "Epoch: 2, Batch: 250, Avg. Loss: 0.05564045831561089\n",
      "Epoch: 2, Batch: 260, Avg. Loss: 0.05790876671671867\n",
      "Epoch: 2, Batch: 270, Avg. Loss: 0.05648122727870941\n",
      "Epoch: 2, Batch: 280, Avg. Loss: 0.054283175617456436\n",
      "Epoch: 2, Batch: 290, Avg. Loss: 0.04855377413332462\n",
      "Epoch: 2, Batch: 300, Avg. Loss: 0.05433652028441429\n",
      "Epoch: 2, Batch: 310, Avg. Loss: 0.06189861334860325\n",
      "Epoch: 2, Batch: 320, Avg. Loss: 0.05984336733818054\n",
      "Epoch: 2, Batch: 330, Avg. Loss: 0.062065808475017546\n",
      "Epoch: 2, Batch: 340, Avg. Loss: 0.06650637313723565\n",
      "Epoch: 3, Batch: 10, Avg. Loss: 0.058671675994992255\n",
      "Epoch: 3, Batch: 20, Avg. Loss: 0.06610941290855407\n",
      "Epoch: 3, Batch: 30, Avg. Loss: 0.049547053128480914\n",
      "Epoch: 3, Batch: 40, Avg. Loss: 0.05786992982029915\n",
      "Epoch: 3, Batch: 50, Avg. Loss: 0.05492897368967533\n",
      "Epoch: 3, Batch: 60, Avg. Loss: 0.05445825681090355\n",
      "Epoch: 3, Batch: 70, Avg. Loss: 0.04644409827888012\n",
      "Epoch: 3, Batch: 80, Avg. Loss: 0.045121864229440686\n",
      "Epoch: 3, Batch: 90, Avg. Loss: 0.05239618048071861\n",
      "Epoch: 3, Batch: 100, Avg. Loss: 0.04865320436656475\n",
      "Epoch: 3, Batch: 110, Avg. Loss: 0.049334576725959776\n",
      "Epoch: 3, Batch: 120, Avg. Loss: 0.04566902406513691\n",
      "Epoch: 3, Batch: 130, Avg. Loss: 0.0504007238894701\n",
      "Epoch: 3, Batch: 140, Avg. Loss: 0.048432140983641146\n",
      "Epoch: 3, Batch: 150, Avg. Loss: 0.04940468594431877\n",
      "Epoch: 3, Batch: 160, Avg. Loss: 0.05100547187030315\n",
      "Epoch: 3, Batch: 170, Avg. Loss: 0.045370495319366454\n",
      "Epoch: 3, Batch: 180, Avg. Loss: 0.047767364978790285\n",
      "Epoch: 3, Batch: 190, Avg. Loss: 0.048672369495034215\n",
      "Epoch: 3, Batch: 200, Avg. Loss: 0.04510225839912892\n",
      "Epoch: 3, Batch: 210, Avg. Loss: 0.04568405486643314\n",
      "Epoch: 3, Batch: 220, Avg. Loss: 0.037213013879954814\n",
      "Epoch: 3, Batch: 230, Avg. Loss: 0.04304557517170906\n",
      "Epoch: 3, Batch: 240, Avg. Loss: 0.044128149002790454\n",
      "Epoch: 3, Batch: 250, Avg. Loss: 0.04350466672331095\n",
      "Epoch: 3, Batch: 260, Avg. Loss: 0.04283562898635864\n",
      "Epoch: 3, Batch: 270, Avg. Loss: 0.048011263087391856\n",
      "Epoch: 3, Batch: 280, Avg. Loss: 0.042443862184882164\n",
      "Epoch: 3, Batch: 290, Avg. Loss: 0.03940057680010796\n",
      "Epoch: 3, Batch: 300, Avg. Loss: 0.03839667979627848\n",
      "Epoch: 3, Batch: 310, Avg. Loss: 0.04491310082376003\n",
      "Epoch: 3, Batch: 320, Avg. Loss: 0.039109757728874685\n",
      "Epoch: 3, Batch: 330, Avg. Loss: 0.04019911717623472\n",
      "Epoch: 3, Batch: 340, Avg. Loss: 0.03748582173138857\n",
      "Epoch: 4, Batch: 10, Avg. Loss: 0.04747305233031511\n",
      "Epoch: 4, Batch: 20, Avg. Loss: 0.041665661707520486\n",
      "Epoch: 4, Batch: 30, Avg. Loss: 0.04016804601997137\n",
      "Epoch: 4, Batch: 40, Avg. Loss: 0.04225540664047003\n",
      "Epoch: 4, Batch: 50, Avg. Loss: 0.03685483261942864\n",
      "Epoch: 4, Batch: 60, Avg. Loss: 0.038335207663476464\n",
      "Epoch: 4, Batch: 70, Avg. Loss: 0.03963400889188051\n",
      "Epoch: 4, Batch: 80, Avg. Loss: 0.03376393709331751\n",
      "Epoch: 4, Batch: 90, Avg. Loss: 0.03139058519154787\n",
      "Epoch: 4, Batch: 100, Avg. Loss: 0.03403159193694592\n",
      "Epoch: 4, Batch: 110, Avg. Loss: 0.04030327051877976\n",
      "Epoch: 4, Batch: 120, Avg. Loss: 0.0391207717359066\n",
      "Epoch: 4, Batch: 130, Avg. Loss: 0.03476964682340622\n",
      "Epoch: 4, Batch: 140, Avg. Loss: 0.039630785956978797\n",
      "Epoch: 4, Batch: 150, Avg. Loss: 0.037955150939524174\n",
      "Epoch: 4, Batch: 160, Avg. Loss: 0.03403390385210514\n",
      "Epoch: 4, Batch: 170, Avg. Loss: 0.03751672003418207\n",
      "Epoch: 4, Batch: 180, Avg. Loss: 0.03142833653837442\n",
      "Epoch: 4, Batch: 190, Avg. Loss: 0.03502875082194805\n",
      "Epoch: 4, Batch: 200, Avg. Loss: 0.031990544870495796\n",
      "Epoch: 4, Batch: 210, Avg. Loss: 0.034562173299491405\n",
      "Epoch: 4, Batch: 220, Avg. Loss: 0.03518864251673222\n",
      "Epoch: 4, Batch: 230, Avg. Loss: 0.032648454420268536\n",
      "Epoch: 4, Batch: 240, Avg. Loss: 0.029946701042354106\n",
      "Epoch: 4, Batch: 250, Avg. Loss: 0.03360783271491528\n",
      "Epoch: 4, Batch: 260, Avg. Loss: 0.031608611904084684\n",
      "Epoch: 4, Batch: 270, Avg. Loss: 0.030254751816391943\n",
      "Epoch: 4, Batch: 280, Avg. Loss: 0.03471314534544945\n",
      "Epoch: 4, Batch: 290, Avg. Loss: 0.02912786565721035\n",
      "Epoch: 4, Batch: 300, Avg. Loss: 0.029710924066603184\n",
      "Epoch: 4, Batch: 310, Avg. Loss: 0.036939128488302234\n",
      "Epoch: 4, Batch: 320, Avg. Loss: 0.031190416030585765\n",
      "Epoch: 4, Batch: 330, Avg. Loss: 0.03461715746670961\n",
      "Epoch: 4, Batch: 340, Avg. Loss: 0.037549781054258345\n",
      "Epoch: 5, Batch: 10, Avg. Loss: 0.03215617723762989\n",
      "Epoch: 5, Batch: 20, Avg. Loss: 0.03400239050388336\n",
      "Epoch: 5, Batch: 30, Avg. Loss: 0.0338318346068263\n",
      "Epoch: 5, Batch: 40, Avg. Loss: 0.034617709927260876\n",
      "Epoch: 5, Batch: 50, Avg. Loss: 0.0345291031524539\n",
      "Epoch: 5, Batch: 60, Avg. Loss: 0.032268129661679266\n",
      "Epoch: 5, Batch: 70, Avg. Loss: 0.02701633479446173\n",
      "Epoch: 5, Batch: 80, Avg. Loss: 0.030431556329131127\n",
      "Epoch: 5, Batch: 90, Avg. Loss: 0.026438079588115216\n",
      "Epoch: 5, Batch: 100, Avg. Loss: 0.03146602232009173\n",
      "Epoch: 5, Batch: 110, Avg. Loss: 0.028649333864450455\n",
      "Epoch: 5, Batch: 120, Avg. Loss: 0.03257817886769772\n",
      "Epoch: 5, Batch: 130, Avg. Loss: 0.02835006918758154\n",
      "Epoch: 5, Batch: 140, Avg. Loss: 0.030879675596952438\n",
      "Epoch: 5, Batch: 150, Avg. Loss: 0.028102323412895203\n",
      "Epoch: 5, Batch: 160, Avg. Loss: 0.03202049545943737\n",
      "Epoch: 5, Batch: 170, Avg. Loss: 0.028543523885309695\n",
      "Epoch: 5, Batch: 180, Avg. Loss: 0.02644403800368309\n",
      "Epoch: 5, Batch: 190, Avg. Loss: 0.02600022088736296\n",
      "Epoch: 5, Batch: 200, Avg. Loss: 0.02834489233791828\n"
     ]
    },
    {
     "name": "stdout",
     "output_type": "stream",
     "text": [
      "Epoch: 5, Batch: 210, Avg. Loss: 0.027824228443205357\n",
      "Epoch: 5, Batch: 220, Avg. Loss: 0.024716024845838548\n",
      "Epoch: 5, Batch: 230, Avg. Loss: 0.03614840302616358\n",
      "Epoch: 5, Batch: 240, Avg. Loss: 0.024486270546913148\n",
      "Epoch: 5, Batch: 250, Avg. Loss: 0.030054028518497942\n",
      "Epoch: 5, Batch: 260, Avg. Loss: 0.024766418896615506\n",
      "Epoch: 5, Batch: 270, Avg. Loss: 0.027716147340834142\n",
      "Epoch: 5, Batch: 280, Avg. Loss: 0.03091965112835169\n",
      "Epoch: 5, Batch: 290, Avg. Loss: 0.022700487077236174\n",
      "Epoch: 5, Batch: 300, Avg. Loss: 0.025010820291936398\n",
      "Epoch: 5, Batch: 310, Avg. Loss: 0.026858367212116718\n",
      "Epoch: 5, Batch: 320, Avg. Loss: 0.029604865051805974\n",
      "Epoch: 5, Batch: 330, Avg. Loss: 0.0315198203548789\n",
      "Epoch: 5, Batch: 340, Avg. Loss: 0.0237646522000432\n",
      "Epoch: 6, Batch: 10, Avg. Loss: 0.02239290066063404\n",
      "Epoch: 6, Batch: 20, Avg. Loss: 0.025558077730238438\n",
      "Epoch: 6, Batch: 30, Avg. Loss: 0.028494585864245893\n",
      "Epoch: 6, Batch: 40, Avg. Loss: 0.025332603603601456\n",
      "Epoch: 6, Batch: 50, Avg. Loss: 0.027444597333669662\n",
      "Epoch: 6, Batch: 60, Avg. Loss: 0.030506441742181777\n",
      "Epoch: 6, Batch: 70, Avg. Loss: 0.02692289724946022\n",
      "Epoch: 6, Batch: 80, Avg. Loss: 0.026492958888411522\n",
      "Epoch: 6, Batch: 90, Avg. Loss: 0.026653318107128142\n",
      "Epoch: 6, Batch: 100, Avg. Loss: 0.02120908200740814\n",
      "Epoch: 6, Batch: 110, Avg. Loss: 0.03238070420920849\n",
      "Epoch: 6, Batch: 120, Avg. Loss: 0.025001777708530425\n",
      "Epoch: 6, Batch: 130, Avg. Loss: 0.02535441368818283\n",
      "Epoch: 6, Batch: 140, Avg. Loss: 0.024282196536660194\n",
      "Epoch: 6, Batch: 150, Avg. Loss: 0.0268114211037755\n",
      "Epoch: 6, Batch: 160, Avg. Loss: 0.025727295503020286\n",
      "Epoch: 6, Batch: 170, Avg. Loss: 0.026876991800963878\n",
      "Epoch: 6, Batch: 180, Avg. Loss: 0.02806689776480198\n",
      "Epoch: 6, Batch: 190, Avg. Loss: 0.02662776634097099\n",
      "Epoch: 6, Batch: 200, Avg. Loss: 0.022441604733467103\n",
      "Epoch: 6, Batch: 210, Avg. Loss: 0.024102270230650903\n",
      "Epoch: 6, Batch: 220, Avg. Loss: 0.024648458510637284\n",
      "Epoch: 6, Batch: 230, Avg. Loss: 0.025553818978369235\n",
      "Epoch: 6, Batch: 240, Avg. Loss: 0.0223242973908782\n",
      "Epoch: 6, Batch: 250, Avg. Loss: 0.023694012127816678\n",
      "Epoch: 6, Batch: 260, Avg. Loss: 0.02438483890146017\n",
      "Epoch: 6, Batch: 270, Avg. Loss: 0.02739575020968914\n",
      "Epoch: 6, Batch: 280, Avg. Loss: 0.0220842020586133\n",
      "Epoch: 6, Batch: 290, Avg. Loss: 0.02579619437456131\n",
      "Epoch: 6, Batch: 300, Avg. Loss: 0.023291016183793544\n",
      "Epoch: 6, Batch: 310, Avg. Loss: 0.02264567892998457\n",
      "Epoch: 6, Batch: 320, Avg. Loss: 0.03007479552179575\n",
      "Epoch: 6, Batch: 330, Avg. Loss: 0.02271931227296591\n",
      "Epoch: 6, Batch: 340, Avg. Loss: 0.025445753894746303\n",
      "Epoch: 7, Batch: 10, Avg. Loss: 0.030549774505198003\n",
      "Epoch: 7, Batch: 20, Avg. Loss: 0.024216823931783437\n",
      "Epoch: 7, Batch: 30, Avg. Loss: 0.025827797688543798\n",
      "Epoch: 7, Batch: 40, Avg. Loss: 0.022233077324926853\n",
      "Epoch: 7, Batch: 50, Avg. Loss: 0.027164733223617076\n",
      "Epoch: 7, Batch: 60, Avg. Loss: 0.023436239920556545\n",
      "Epoch: 7, Batch: 70, Avg. Loss: 0.018447221256792545\n",
      "Epoch: 7, Batch: 80, Avg. Loss: 0.021742214169353246\n",
      "Epoch: 7, Batch: 90, Avg. Loss: 0.023236423172056674\n",
      "Epoch: 7, Batch: 100, Avg. Loss: 0.020585733465850353\n",
      "Epoch: 7, Batch: 110, Avg. Loss: 0.021423920802772046\n",
      "Epoch: 7, Batch: 120, Avg. Loss: 0.022372683230787515\n",
      "Epoch: 7, Batch: 130, Avg. Loss: 0.02189831044524908\n",
      "Epoch: 7, Batch: 140, Avg. Loss: 0.025158854201436043\n",
      "Epoch: 7, Batch: 150, Avg. Loss: 0.022865855321288108\n",
      "Epoch: 7, Batch: 160, Avg. Loss: 0.020427700225263835\n",
      "Epoch: 7, Batch: 170, Avg. Loss: 0.024092968180775644\n",
      "Epoch: 7, Batch: 180, Avg. Loss: 0.023253420181572438\n",
      "Epoch: 7, Batch: 190, Avg. Loss: 0.027926716208457946\n",
      "Epoch: 7, Batch: 200, Avg. Loss: 0.021757104620337486\n",
      "Epoch: 7, Batch: 210, Avg. Loss: 0.021061334013938903\n",
      "Epoch: 7, Batch: 220, Avg. Loss: 0.021520553436130286\n",
      "Epoch: 7, Batch: 230, Avg. Loss: 0.023482651636004447\n",
      "Epoch: 7, Batch: 240, Avg. Loss: 0.020697293058037757\n",
      "Epoch: 7, Batch: 250, Avg. Loss: 0.02184828221797943\n",
      "Epoch: 7, Batch: 260, Avg. Loss: 0.019057023618370295\n",
      "Epoch: 7, Batch: 270, Avg. Loss: 0.020983671862632038\n",
      "Epoch: 7, Batch: 280, Avg. Loss: 0.025603070203214884\n",
      "Epoch: 7, Batch: 290, Avg. Loss: 0.023135960288345813\n",
      "Epoch: 7, Batch: 300, Avg. Loss: 0.024454600363969802\n",
      "Epoch: 7, Batch: 310, Avg. Loss: 0.01941041899845004\n",
      "Epoch: 7, Batch: 320, Avg. Loss: 0.02217967715114355\n",
      "Epoch: 7, Batch: 330, Avg. Loss: 0.02433758294209838\n",
      "Epoch: 7, Batch: 340, Avg. Loss: 0.022409790195524693\n",
      "Epoch: 8, Batch: 10, Avg. Loss: 0.025406014919281007\n",
      "Epoch: 8, Batch: 20, Avg. Loss: 0.02165560834109783\n",
      "Epoch: 8, Batch: 30, Avg. Loss: 0.018355042859911918\n",
      "Epoch: 8, Batch: 40, Avg. Loss: 0.018847012892365456\n",
      "Epoch: 8, Batch: 50, Avg. Loss: 0.01752814631909132\n",
      "Epoch: 8, Batch: 60, Avg. Loss: 0.023152606468647717\n",
      "Epoch: 8, Batch: 70, Avg. Loss: 0.026418244279921056\n",
      "Epoch: 8, Batch: 80, Avg. Loss: 0.021512008830904962\n",
      "Epoch: 8, Batch: 90, Avg. Loss: 0.018577382154762744\n",
      "Epoch: 8, Batch: 100, Avg. Loss: 0.019428256060928108\n",
      "Epoch: 8, Batch: 110, Avg. Loss: 0.02110859118402004\n",
      "Epoch: 8, Batch: 120, Avg. Loss: 0.02142138695344329\n",
      "Epoch: 8, Batch: 130, Avg. Loss: 0.0249234713613987\n",
      "Epoch: 8, Batch: 140, Avg. Loss: 0.02396806413307786\n",
      "Epoch: 8, Batch: 150, Avg. Loss: 0.020962266996502877\n",
      "Epoch: 8, Batch: 160, Avg. Loss: 0.01927840942516923\n",
      "Epoch: 8, Batch: 170, Avg. Loss: 0.0200913954526186\n",
      "Epoch: 8, Batch: 180, Avg. Loss: 0.02032813271507621\n",
      "Epoch: 8, Batch: 190, Avg. Loss: 0.028332496341317893\n",
      "Epoch: 8, Batch: 200, Avg. Loss: 0.022207160852849482\n",
      "Epoch: 8, Batch: 210, Avg. Loss: 0.019690025690943004\n",
      "Epoch: 8, Batch: 220, Avg. Loss: 0.02055907975882292\n",
      "Epoch: 8, Batch: 230, Avg. Loss: 0.0175125190988183\n",
      "Epoch: 8, Batch: 240, Avg. Loss: 0.0190840276889503\n",
      "Epoch: 8, Batch: 250, Avg. Loss: 0.01911615813151002\n",
      "Epoch: 8, Batch: 260, Avg. Loss: 0.017580015771090984\n",
      "Epoch: 8, Batch: 270, Avg. Loss: 0.018678164202719928\n",
      "Epoch: 8, Batch: 280, Avg. Loss: 0.018933521769940852\n",
      "Epoch: 8, Batch: 290, Avg. Loss: 0.01834969371557236\n",
      "Epoch: 8, Batch: 300, Avg. Loss: 0.018030224554240703\n",
      "Epoch: 8, Batch: 310, Avg. Loss: 0.015833669900894166\n",
      "Epoch: 8, Batch: 320, Avg. Loss: 0.01947300471365452\n",
      "Epoch: 8, Batch: 330, Avg. Loss: 0.0187589293345809\n",
      "Epoch: 8, Batch: 340, Avg. Loss: 0.02066933149471879\n",
      "Epoch: 9, Batch: 10, Avg. Loss: 0.018018803838640452\n",
      "Epoch: 9, Batch: 20, Avg. Loss: 0.018527959007769823\n",
      "Epoch: 9, Batch: 30, Avg. Loss: 0.017016441840678454\n",
      "Epoch: 9, Batch: 40, Avg. Loss: 0.022075616847723724\n",
      "Epoch: 9, Batch: 50, Avg. Loss: 0.025261364318430422\n",
      "Epoch: 9, Batch: 60, Avg. Loss: 0.01865057907998562\n",
      "Epoch: 9, Batch: 70, Avg. Loss: 0.023921198677271605\n",
      "Epoch: 9, Batch: 80, Avg. Loss: 0.01914621815085411\n",
      "Epoch: 9, Batch: 90, Avg. Loss: 0.020656529162079097\n",
      "Epoch: 9, Batch: 100, Avg. Loss: 0.024750380683690308\n",
      "Epoch: 9, Batch: 110, Avg. Loss: 0.02208316707983613\n",
      "Epoch: 9, Batch: 120, Avg. Loss: 0.017324247304350136\n",
      "Epoch: 9, Batch: 130, Avg. Loss: 0.018230310268700124\n",
      "Epoch: 9, Batch: 140, Avg. Loss: 0.019341639522463084\n",
      "Epoch: 9, Batch: 150, Avg. Loss: 0.018478420097380877\n",
      "Epoch: 9, Batch: 160, Avg. Loss: 0.024242135137319563\n",
      "Epoch: 9, Batch: 170, Avg. Loss: 0.020596662629395725\n",
      "Epoch: 9, Batch: 180, Avg. Loss: 0.019654548913240432\n",
      "Epoch: 9, Batch: 190, Avg. Loss: 0.021791251841932535\n",
      "Epoch: 9, Batch: 200, Avg. Loss: 0.01863168887794018\n",
      "Epoch: 9, Batch: 210, Avg. Loss: 0.020513598434627058\n",
      "Epoch: 9, Batch: 220, Avg. Loss: 0.020518218725919725\n",
      "Epoch: 9, Batch: 230, Avg. Loss: 0.019265666883438826\n",
      "Epoch: 9, Batch: 240, Avg. Loss: 0.017824910953640936\n",
      "Epoch: 9, Batch: 250, Avg. Loss: 0.01944426167756319\n",
      "Epoch: 9, Batch: 260, Avg. Loss: 0.02003175625577569\n",
      "Epoch: 9, Batch: 270, Avg. Loss: 0.01773386225104332\n",
      "Epoch: 9, Batch: 280, Avg. Loss: 0.014852582570165395\n",
      "Epoch: 9, Batch: 290, Avg. Loss: 0.01702856570482254\n",
      "Epoch: 9, Batch: 300, Avg. Loss: 0.017621485982090235\n",
      "Epoch: 9, Batch: 310, Avg. Loss: 0.014958524703979492\n",
      "Epoch: 9, Batch: 320, Avg. Loss: 0.018802815396338702\n",
      "Epoch: 9, Batch: 330, Avg. Loss: 0.018798929173499346\n",
      "Epoch: 9, Batch: 340, Avg. Loss: 0.016548439767211674\n",
      "Epoch: 10, Batch: 10, Avg. Loss: 0.018792020063847302\n",
      "Epoch: 10, Batch: 20, Avg. Loss: 0.01461623264476657\n",
      "Epoch: 10, Batch: 30, Avg. Loss: 0.017343619652092458\n",
      "Epoch: 10, Batch: 40, Avg. Loss: 0.018140571378171443\n"
     ]
    },
    {
     "name": "stdout",
     "output_type": "stream",
     "text": [
      "Epoch: 10, Batch: 50, Avg. Loss: 0.016851003747433424\n",
      "Epoch: 10, Batch: 60, Avg. Loss: 0.01615658514201641\n",
      "Epoch: 10, Batch: 70, Avg. Loss: 0.01657697167247534\n",
      "Epoch: 10, Batch: 80, Avg. Loss: 0.01830797651782632\n",
      "Epoch: 10, Batch: 90, Avg. Loss: 0.015467914566397668\n",
      "Epoch: 10, Batch: 100, Avg. Loss: 0.016364927031099798\n",
      "Epoch: 10, Batch: 110, Avg. Loss: 0.017088124994188547\n",
      "Epoch: 10, Batch: 120, Avg. Loss: 0.015466871019452811\n",
      "Epoch: 10, Batch: 130, Avg. Loss: 0.014772517327219247\n",
      "Epoch: 10, Batch: 140, Avg. Loss: 0.018916526343673468\n",
      "Epoch: 10, Batch: 150, Avg. Loss: 0.0205239862203598\n",
      "Epoch: 10, Batch: 160, Avg. Loss: 0.015506339259445667\n",
      "Epoch: 10, Batch: 170, Avg. Loss: 0.015278583113104104\n",
      "Epoch: 10, Batch: 180, Avg. Loss: 0.01608547819778323\n",
      "Epoch: 10, Batch: 190, Avg. Loss: 0.020765531435608865\n",
      "Epoch: 10, Batch: 200, Avg. Loss: 0.0155464930459857\n",
      "Epoch: 10, Batch: 210, Avg. Loss: 0.012821877095848321\n",
      "Epoch: 10, Batch: 220, Avg. Loss: 0.01531133260577917\n",
      "Epoch: 10, Batch: 230, Avg. Loss: 0.012613072618842125\n",
      "Epoch: 10, Batch: 240, Avg. Loss: 0.015490892343223095\n",
      "Epoch: 10, Batch: 250, Avg. Loss: 0.015596385207027197\n",
      "Epoch: 10, Batch: 260, Avg. Loss: 0.0183497279882431\n",
      "Epoch: 10, Batch: 270, Avg. Loss: 0.01877520401030779\n",
      "Epoch: 10, Batch: 280, Avg. Loss: 0.014561410993337631\n",
      "Epoch: 10, Batch: 290, Avg. Loss: 0.015435714460909366\n",
      "Epoch: 10, Batch: 300, Avg. Loss: 0.01458462905138731\n",
      "Epoch: 10, Batch: 310, Avg. Loss: 0.016234084591269494\n",
      "Epoch: 10, Batch: 320, Avg. Loss: 0.016848600655794143\n",
      "Epoch: 10, Batch: 330, Avg. Loss: 0.017729014437645674\n",
      "Epoch: 10, Batch: 340, Avg. Loss: 0.018849870655685663\n",
      "Epoch: 11, Batch: 10, Avg. Loss: 0.015431477967649699\n",
      "Epoch: 11, Batch: 20, Avg. Loss: 0.014472373109310866\n",
      "Epoch: 11, Batch: 30, Avg. Loss: 0.01270686574280262\n",
      "Epoch: 11, Batch: 40, Avg. Loss: 0.015559487603604793\n",
      "Epoch: 11, Batch: 50, Avg. Loss: 0.015242095710709691\n",
      "Epoch: 11, Batch: 60, Avg. Loss: 0.015359586849808694\n",
      "Epoch: 11, Batch: 70, Avg. Loss: 0.012319213896989822\n",
      "Epoch: 11, Batch: 80, Avg. Loss: 0.01311127026565373\n",
      "Epoch: 11, Batch: 90, Avg. Loss: 0.014818933792412281\n",
      "Epoch: 11, Batch: 100, Avg. Loss: 0.015698063559830187\n",
      "Epoch: 11, Batch: 110, Avg. Loss: 0.018198212794959544\n",
      "Epoch: 11, Batch: 120, Avg. Loss: 0.01282033659517765\n",
      "Epoch: 11, Batch: 130, Avg. Loss: 0.01691947691142559\n",
      "Epoch: 11, Batch: 140, Avg. Loss: 0.013545509334653616\n",
      "Epoch: 11, Batch: 150, Avg. Loss: 0.01397307962179184\n",
      "Epoch: 11, Batch: 160, Avg. Loss: 0.014540221448987723\n",
      "Epoch: 11, Batch: 170, Avg. Loss: 0.011605256795883178\n",
      "Epoch: 11, Batch: 180, Avg. Loss: 0.010976484091952444\n",
      "Epoch: 11, Batch: 190, Avg. Loss: 0.010680153919383883\n",
      "Epoch: 11, Batch: 200, Avg. Loss: 0.013365506287664175\n",
      "Epoch: 11, Batch: 210, Avg. Loss: 0.014882831275463105\n",
      "Epoch: 11, Batch: 220, Avg. Loss: 0.015607132576406002\n",
      "Epoch: 11, Batch: 230, Avg. Loss: 0.01295575024560094\n",
      "Epoch: 11, Batch: 240, Avg. Loss: 0.014424974005669356\n",
      "Epoch: 11, Batch: 250, Avg. Loss: 0.012884564138948918\n",
      "Epoch: 11, Batch: 260, Avg. Loss: 0.011619515903294086\n",
      "Epoch: 11, Batch: 270, Avg. Loss: 0.014318233914673328\n",
      "Epoch: 11, Batch: 280, Avg. Loss: 0.015007076039910316\n",
      "Epoch: 11, Batch: 290, Avg. Loss: 0.013966646790504456\n",
      "Epoch: 11, Batch: 300, Avg. Loss: 0.013980752415955066\n",
      "Epoch: 11, Batch: 310, Avg. Loss: 0.013417237903922796\n",
      "Epoch: 11, Batch: 320, Avg. Loss: 0.0129014334641397\n",
      "Epoch: 11, Batch: 330, Avg. Loss: 0.009578595496714115\n",
      "Epoch: 11, Batch: 340, Avg. Loss: 0.013544797711074353\n",
      "Epoch: 12, Batch: 10, Avg. Loss: 0.010962209291756153\n",
      "Epoch: 12, Batch: 20, Avg. Loss: 0.012686128914356231\n",
      "Epoch: 12, Batch: 30, Avg. Loss: 0.01122965794056654\n",
      "Epoch: 12, Batch: 40, Avg. Loss: 0.01101318052969873\n",
      "Epoch: 12, Batch: 50, Avg. Loss: 0.01386727849021554\n",
      "Epoch: 12, Batch: 60, Avg. Loss: 0.01182292802259326\n",
      "Epoch: 12, Batch: 70, Avg. Loss: 0.01224723132327199\n",
      "Epoch: 12, Batch: 80, Avg. Loss: 0.014786101737990975\n",
      "Epoch: 12, Batch: 90, Avg. Loss: 0.011350461468100547\n",
      "Epoch: 12, Batch: 100, Avg. Loss: 0.011450796760618687\n",
      "Epoch: 12, Batch: 110, Avg. Loss: 0.01131057608872652\n",
      "Epoch: 12, Batch: 120, Avg. Loss: 0.011663468740880489\n",
      "Epoch: 12, Batch: 130, Avg. Loss: 0.01169251250103116\n",
      "Epoch: 12, Batch: 140, Avg. Loss: 0.013691201899200678\n",
      "Epoch: 12, Batch: 150, Avg. Loss: 0.01069418783299625\n",
      "Epoch: 12, Batch: 160, Avg. Loss: 0.011857133265584708\n",
      "Epoch: 12, Batch: 170, Avg. Loss: 0.022308279108256102\n",
      "Epoch: 12, Batch: 180, Avg. Loss: 0.012574547994881868\n",
      "Epoch: 12, Batch: 190, Avg. Loss: 0.01104414528235793\n",
      "Epoch: 12, Batch: 200, Avg. Loss: 0.012066420260816812\n",
      "Epoch: 12, Batch: 210, Avg. Loss: 0.015491803176701069\n",
      "Epoch: 12, Batch: 220, Avg. Loss: 0.01369175910949707\n",
      "Epoch: 12, Batch: 230, Avg. Loss: 0.015863071102648972\n",
      "Epoch: 12, Batch: 240, Avg. Loss: 0.013220852985978127\n",
      "Epoch: 12, Batch: 250, Avg. Loss: 0.011083719553425908\n",
      "Epoch: 12, Batch: 260, Avg. Loss: 0.01567667326889932\n",
      "Epoch: 12, Batch: 270, Avg. Loss: 0.011604214226827026\n",
      "Epoch: 12, Batch: 280, Avg. Loss: 0.013146931352093816\n",
      "Epoch: 12, Batch: 290, Avg. Loss: 0.01159105347469449\n",
      "Epoch: 12, Batch: 300, Avg. Loss: 0.012356736743822695\n",
      "Epoch: 12, Batch: 310, Avg. Loss: 0.016300108516588807\n",
      "Epoch: 12, Batch: 320, Avg. Loss: 0.012289096368476748\n",
      "Epoch: 12, Batch: 330, Avg. Loss: 0.01808789069764316\n",
      "Epoch: 12, Batch: 340, Avg. Loss: 0.012914262060075999\n",
      "Epoch: 13, Batch: 10, Avg. Loss: 0.011811801884323358\n",
      "Epoch: 13, Batch: 20, Avg. Loss: 0.0133602824062109\n",
      "Epoch: 13, Batch: 30, Avg. Loss: 0.012595256930217147\n",
      "Epoch: 13, Batch: 40, Avg. Loss: 0.015277150459587574\n",
      "Epoch: 13, Batch: 50, Avg. Loss: 0.015073832217603922\n",
      "Epoch: 13, Batch: 60, Avg. Loss: 0.013482788763940334\n",
      "Epoch: 13, Batch: 70, Avg. Loss: 0.01634880732744932\n",
      "Epoch: 13, Batch: 80, Avg. Loss: 0.01963999723084271\n",
      "Epoch: 13, Batch: 90, Avg. Loss: 0.016762981889769435\n",
      "Epoch: 13, Batch: 100, Avg. Loss: 0.012448144517838955\n",
      "Epoch: 13, Batch: 110, Avg. Loss: 0.010964266769587994\n",
      "Epoch: 13, Batch: 120, Avg. Loss: 0.01504683829843998\n",
      "Epoch: 13, Batch: 130, Avg. Loss: 0.013806706760078669\n",
      "Epoch: 13, Batch: 140, Avg. Loss: 0.011414027865976095\n",
      "Epoch: 13, Batch: 150, Avg. Loss: 0.01848095110617578\n",
      "Epoch: 13, Batch: 160, Avg. Loss: 0.012289349734783173\n",
      "Epoch: 13, Batch: 170, Avg. Loss: 0.014856280479580163\n",
      "Epoch: 13, Batch: 180, Avg. Loss: 0.011523373099043966\n",
      "Epoch: 13, Batch: 190, Avg. Loss: 0.01066001718863845\n",
      "Epoch: 13, Batch: 200, Avg. Loss: 0.010426157526671887\n",
      "Epoch: 13, Batch: 210, Avg. Loss: 0.014686965988948942\n",
      "Epoch: 13, Batch: 220, Avg. Loss: 0.013553427252918481\n",
      "Epoch: 13, Batch: 230, Avg. Loss: 0.011383663350716233\n",
      "Epoch: 13, Batch: 240, Avg. Loss: 0.015008887741714716\n",
      "Epoch: 13, Batch: 250, Avg. Loss: 0.01476470991037786\n",
      "Epoch: 13, Batch: 260, Avg. Loss: 0.012070424389094114\n",
      "Epoch: 13, Batch: 270, Avg. Loss: 0.012585062254220247\n",
      "Epoch: 13, Batch: 280, Avg. Loss: 0.014241195935755967\n",
      "Epoch: 13, Batch: 290, Avg. Loss: 0.013013466726988554\n",
      "Epoch: 13, Batch: 300, Avg. Loss: 0.013601151667535305\n",
      "Epoch: 13, Batch: 310, Avg. Loss: 0.013080521579831838\n",
      "Epoch: 13, Batch: 320, Avg. Loss: 0.01383651066571474\n",
      "Epoch: 13, Batch: 330, Avg. Loss: 0.017331248521804808\n",
      "Epoch: 13, Batch: 340, Avg. Loss: 0.012064015958458185\n",
      "Epoch: 14, Batch: 10, Avg. Loss: 0.01869415370747447\n",
      "Epoch: 14, Batch: 20, Avg. Loss: 0.010650043841451406\n",
      "Epoch: 14, Batch: 30, Avg. Loss: 0.017128701554611325\n",
      "Epoch: 14, Batch: 40, Avg. Loss: 0.012980176834389567\n",
      "Epoch: 14, Batch: 50, Avg. Loss: 0.012594716576859354\n",
      "Epoch: 14, Batch: 60, Avg. Loss: 0.009841874381527305\n",
      "Epoch: 14, Batch: 70, Avg. Loss: 0.012399179022759199\n",
      "Epoch: 14, Batch: 80, Avg. Loss: 0.01089714034460485\n",
      "Epoch: 14, Batch: 90, Avg. Loss: 0.01247229683212936\n",
      "Epoch: 14, Batch: 100, Avg. Loss: 0.01287895692512393\n",
      "Epoch: 14, Batch: 110, Avg. Loss: 0.012922491412609816\n",
      "Epoch: 14, Batch: 120, Avg. Loss: 0.016049077548086644\n",
      "Epoch: 14, Batch: 130, Avg. Loss: 0.02502399580553174\n",
      "Epoch: 14, Batch: 140, Avg. Loss: 0.010594130028039217\n",
      "Epoch: 14, Batch: 150, Avg. Loss: 0.013127034530043602\n",
      "Epoch: 14, Batch: 160, Avg. Loss: 0.014323177468031644\n",
      "Epoch: 14, Batch: 170, Avg. Loss: 0.014216184336692094\n",
      "Epoch: 14, Batch: 180, Avg. Loss: 0.013794015068560839\n",
      "Epoch: 14, Batch: 190, Avg. Loss: 0.010875667305663228\n"
     ]
    },
    {
     "name": "stdout",
     "output_type": "stream",
     "text": [
      "Epoch: 14, Batch: 200, Avg. Loss: 0.011355603346601129\n",
      "Epoch: 14, Batch: 210, Avg. Loss: 0.016923321597278117\n",
      "Epoch: 14, Batch: 220, Avg. Loss: 0.015080729313194752\n",
      "Epoch: 14, Batch: 230, Avg. Loss: 0.010671941004693508\n",
      "Epoch: 14, Batch: 240, Avg. Loss: 0.013000683486461639\n",
      "Epoch: 14, Batch: 250, Avg. Loss: 0.012169417180120944\n",
      "Epoch: 14, Batch: 260, Avg. Loss: 0.013455691467970609\n",
      "Epoch: 14, Batch: 270, Avg. Loss: 0.012703048810362817\n",
      "Epoch: 14, Batch: 280, Avg. Loss: 0.016165651194751263\n",
      "Epoch: 14, Batch: 290, Avg. Loss: 0.011168959829956294\n",
      "Epoch: 14, Batch: 300, Avg. Loss: 0.012272785138338804\n",
      "Epoch: 14, Batch: 310, Avg. Loss: 0.01215875130146742\n",
      "Epoch: 14, Batch: 320, Avg. Loss: 0.014738416019827127\n",
      "Epoch: 14, Batch: 330, Avg. Loss: 0.013346764259040356\n",
      "Epoch: 14, Batch: 340, Avg. Loss: 0.011962064541876316\n",
      "Epoch: 15, Batch: 10, Avg. Loss: 0.01619261773303151\n",
      "Epoch: 15, Batch: 20, Avg. Loss: 0.013144292030483484\n",
      "Epoch: 15, Batch: 30, Avg. Loss: 0.01211834056302905\n",
      "Epoch: 15, Batch: 40, Avg. Loss: 0.011774522345513105\n",
      "Epoch: 15, Batch: 50, Avg. Loss: 0.011966873984783888\n",
      "Epoch: 15, Batch: 60, Avg. Loss: 0.011768176546320319\n",
      "Epoch: 15, Batch: 70, Avg. Loss: 0.014395780954509973\n",
      "Epoch: 15, Batch: 80, Avg. Loss: 0.013495924742892384\n",
      "Epoch: 15, Batch: 90, Avg. Loss: 0.011733286129310728\n",
      "Epoch: 15, Batch: 100, Avg. Loss: 0.011395800160244107\n",
      "Epoch: 15, Batch: 110, Avg. Loss: 0.015681454073637725\n",
      "Epoch: 15, Batch: 120, Avg. Loss: 0.01246608207002282\n",
      "Epoch: 15, Batch: 130, Avg. Loss: 0.012509223259985446\n",
      "Epoch: 15, Batch: 140, Avg. Loss: 0.015260025952011346\n",
      "Epoch: 15, Batch: 150, Avg. Loss: 0.011915979767218232\n",
      "Epoch: 15, Batch: 160, Avg. Loss: 0.015257858065888285\n",
      "Epoch: 15, Batch: 170, Avg. Loss: 0.012089525954797864\n",
      "Epoch: 15, Batch: 180, Avg. Loss: 0.01425386369228363\n",
      "Epoch: 15, Batch: 190, Avg. Loss: 0.012013382650911808\n",
      "Epoch: 15, Batch: 200, Avg. Loss: 0.012504733819514512\n",
      "Epoch: 15, Batch: 210, Avg. Loss: 0.013435956789180636\n",
      "Epoch: 15, Batch: 220, Avg. Loss: 0.013295047171413898\n",
      "Epoch: 15, Batch: 230, Avg. Loss: 0.011216505197808146\n",
      "Epoch: 15, Batch: 240, Avg. Loss: 0.012273298110812902\n",
      "Epoch: 15, Batch: 250, Avg. Loss: 0.01272518802434206\n",
      "Epoch: 15, Batch: 260, Avg. Loss: 0.013153601251542569\n",
      "Epoch: 15, Batch: 270, Avg. Loss: 0.014462946588173509\n",
      "Epoch: 15, Batch: 280, Avg. Loss: 0.010786876315250993\n",
      "Epoch: 15, Batch: 290, Avg. Loss: 0.015516730677336454\n",
      "Epoch: 15, Batch: 300, Avg. Loss: 0.013685470074415207\n",
      "Epoch: 15, Batch: 310, Avg. Loss: 0.011877196514979005\n",
      "Epoch: 15, Batch: 320, Avg. Loss: 0.01869122702628374\n",
      "Epoch: 15, Batch: 330, Avg. Loss: 0.011542581114917993\n",
      "Epoch: 15, Batch: 340, Avg. Loss: 0.01262689526192844\n",
      "Epoch: 16, Batch: 10, Avg. Loss: 0.014687785832211375\n",
      "Epoch: 16, Batch: 20, Avg. Loss: 0.012376871844753622\n",
      "Epoch: 16, Batch: 30, Avg. Loss: 0.011552479350939393\n",
      "Epoch: 16, Batch: 40, Avg. Loss: 0.014789665397256613\n",
      "Epoch: 16, Batch: 50, Avg. Loss: 0.01391347753815353\n",
      "Epoch: 16, Batch: 60, Avg. Loss: 0.012428332772105932\n",
      "Epoch: 16, Batch: 70, Avg. Loss: 0.010712585877627134\n",
      "Epoch: 16, Batch: 80, Avg. Loss: 0.013145319931209088\n",
      "Epoch: 16, Batch: 90, Avg. Loss: 0.011607939563691615\n",
      "Epoch: 16, Batch: 100, Avg. Loss: 0.011773270554840565\n",
      "Epoch: 16, Batch: 110, Avg. Loss: 0.011631053686141968\n",
      "Epoch: 16, Batch: 120, Avg. Loss: 0.010759535059332848\n",
      "Epoch: 16, Batch: 130, Avg. Loss: 0.017759396880865096\n",
      "Epoch: 16, Batch: 140, Avg. Loss: 0.010139880236238241\n",
      "Epoch: 16, Batch: 150, Avg. Loss: 0.011423204513266682\n",
      "Epoch: 16, Batch: 160, Avg. Loss: 0.011767226550728083\n",
      "Epoch: 16, Batch: 170, Avg. Loss: 0.00999019742012024\n",
      "Epoch: 16, Batch: 180, Avg. Loss: 0.013896550657227636\n",
      "Epoch: 16, Batch: 190, Avg. Loss: 0.011529302038252354\n",
      "Epoch: 16, Batch: 200, Avg. Loss: 0.012232855148613452\n",
      "Epoch: 16, Batch: 210, Avg. Loss: 0.014933404047042131\n",
      "Epoch: 16, Batch: 220, Avg. Loss: 0.010617604851722718\n",
      "Epoch: 16, Batch: 230, Avg. Loss: 0.012340655690059066\n",
      "Epoch: 16, Batch: 240, Avg. Loss: 0.01377983964048326\n",
      "Epoch: 16, Batch: 250, Avg. Loss: 0.012602933682501316\n",
      "Epoch: 16, Batch: 260, Avg. Loss: 0.011451295670121908\n",
      "Epoch: 16, Batch: 270, Avg. Loss: 0.016039890889078378\n",
      "Epoch: 16, Batch: 280, Avg. Loss: 0.011995719606056809\n",
      "Epoch: 16, Batch: 290, Avg. Loss: 0.013394543156027793\n",
      "Epoch: 16, Batch: 300, Avg. Loss: 0.012656986899673938\n",
      "Epoch: 16, Batch: 310, Avg. Loss: 0.011333077494055033\n",
      "Epoch: 16, Batch: 320, Avg. Loss: 0.01075115567073226\n",
      "Epoch: 16, Batch: 330, Avg. Loss: 0.013186109578236937\n",
      "Epoch: 16, Batch: 340, Avg. Loss: 0.011600075615569949\n",
      "Epoch: 17, Batch: 10, Avg. Loss: 0.012575802253559231\n",
      "Epoch: 17, Batch: 20, Avg. Loss: 0.012047469895333052\n",
      "Epoch: 17, Batch: 30, Avg. Loss: 0.010994452191516757\n",
      "Epoch: 17, Batch: 40, Avg. Loss: 0.011569634126499296\n",
      "Epoch: 17, Batch: 50, Avg. Loss: 0.012688179686665534\n",
      "Epoch: 17, Batch: 60, Avg. Loss: 0.01227265284396708\n",
      "Epoch: 17, Batch: 70, Avg. Loss: 0.012518768105655909\n",
      "Epoch: 17, Batch: 80, Avg. Loss: 0.011090526077896356\n",
      "Epoch: 17, Batch: 90, Avg. Loss: 0.012876044679433107\n",
      "Epoch: 17, Batch: 100, Avg. Loss: 0.011559066781774163\n",
      "Epoch: 17, Batch: 110, Avg. Loss: 0.018146195076406003\n",
      "Epoch: 17, Batch: 120, Avg. Loss: 0.012295347405597568\n",
      "Epoch: 17, Batch: 130, Avg. Loss: 0.013581530516967177\n",
      "Epoch: 17, Batch: 140, Avg. Loss: 0.011121056182309986\n",
      "Epoch: 17, Batch: 150, Avg. Loss: 0.010454379813745618\n",
      "Epoch: 17, Batch: 160, Avg. Loss: 0.013480138778686524\n",
      "Epoch: 17, Batch: 170, Avg. Loss: 0.012560794968158007\n",
      "Epoch: 17, Batch: 180, Avg. Loss: 0.009402215760201216\n",
      "Epoch: 17, Batch: 190, Avg. Loss: 0.012651474075391888\n",
      "Epoch: 17, Batch: 200, Avg. Loss: 0.012370787654072046\n",
      "Epoch: 17, Batch: 210, Avg. Loss: 0.012481996091082692\n",
      "Epoch: 17, Batch: 220, Avg. Loss: 0.014120988547801971\n",
      "Epoch: 17, Batch: 230, Avg. Loss: 0.010634574526920914\n",
      "Epoch: 17, Batch: 240, Avg. Loss: 0.014007816463708878\n",
      "Epoch: 17, Batch: 250, Avg. Loss: 0.013291996624320745\n",
      "Epoch: 17, Batch: 260, Avg. Loss: 0.012913157977163792\n",
      "Epoch: 17, Batch: 270, Avg. Loss: 0.013900244887918235\n",
      "Epoch: 17, Batch: 280, Avg. Loss: 0.01465953360311687\n",
      "Epoch: 17, Batch: 290, Avg. Loss: 0.013738276110962034\n",
      "Epoch: 17, Batch: 300, Avg. Loss: 0.01035451153293252\n",
      "Epoch: 17, Batch: 310, Avg. Loss: 0.016208361973986028\n",
      "Epoch: 17, Batch: 320, Avg. Loss: 0.014338485896587372\n",
      "Epoch: 17, Batch: 330, Avg. Loss: 0.011598443426191807\n",
      "Epoch: 17, Batch: 340, Avg. Loss: 0.011405363772064447\n",
      "Epoch: 18, Batch: 10, Avg. Loss: 0.009822464548051357\n",
      "Epoch: 18, Batch: 20, Avg. Loss: 0.011651208391413093\n",
      "Epoch: 18, Batch: 30, Avg. Loss: 0.01240425338037312\n",
      "Epoch: 18, Batch: 40, Avg. Loss: 0.011649178620427848\n",
      "Epoch: 18, Batch: 50, Avg. Loss: 0.015180133283138275\n",
      "Epoch: 18, Batch: 60, Avg. Loss: 0.010036918986588716\n",
      "Epoch: 18, Batch: 70, Avg. Loss: 0.011390171572566032\n",
      "Epoch: 18, Batch: 80, Avg. Loss: 0.01479406775906682\n",
      "Epoch: 18, Batch: 90, Avg. Loss: 0.013401483185589314\n",
      "Epoch: 18, Batch: 100, Avg. Loss: 0.014821310434490443\n",
      "Epoch: 18, Batch: 110, Avg. Loss: 0.011374307097867131\n",
      "Epoch: 18, Batch: 120, Avg. Loss: 0.012841084832325577\n",
      "Epoch: 18, Batch: 130, Avg. Loss: 0.011518762493506075\n",
      "Epoch: 18, Batch: 140, Avg. Loss: 0.011765385139733553\n",
      "Epoch: 18, Batch: 150, Avg. Loss: 0.012889564223587512\n",
      "Epoch: 18, Batch: 160, Avg. Loss: 0.013274354115128516\n",
      "Epoch: 18, Batch: 170, Avg. Loss: 0.00961859468370676\n",
      "Epoch: 18, Batch: 180, Avg. Loss: 0.010416619665920734\n",
      "Epoch: 18, Batch: 190, Avg. Loss: 0.01032540425658226\n",
      "Epoch: 18, Batch: 200, Avg. Loss: 0.011458958918228745\n",
      "Epoch: 18, Batch: 210, Avg. Loss: 0.009579750057309867\n",
      "Epoch: 18, Batch: 220, Avg. Loss: 0.012629754934459924\n",
      "Epoch: 18, Batch: 230, Avg. Loss: 0.013583218771964311\n",
      "Epoch: 18, Batch: 240, Avg. Loss: 0.011432866100221872\n",
      "Epoch: 18, Batch: 250, Avg. Loss: 0.011964264418929815\n",
      "Epoch: 18, Batch: 260, Avg. Loss: 0.020106189604848623\n",
      "Epoch: 18, Batch: 270, Avg. Loss: 0.010684185195714235\n",
      "Epoch: 18, Batch: 280, Avg. Loss: 0.014141850918531419\n",
      "Epoch: 18, Batch: 290, Avg. Loss: 0.012037882721051574\n",
      "Epoch: 18, Batch: 300, Avg. Loss: 0.01266843220219016\n",
      "Epoch: 18, Batch: 310, Avg. Loss: 0.012483290955424308\n",
      "Epoch: 18, Batch: 320, Avg. Loss: 0.010964733734726905\n",
      "Epoch: 18, Batch: 330, Avg. Loss: 0.010069335531443357\n"
     ]
    },
    {
     "name": "stdout",
     "output_type": "stream",
     "text": [
      "Epoch: 18, Batch: 340, Avg. Loss: 0.012491698749363423\n",
      "Epoch: 19, Batch: 10, Avg. Loss: 0.011238085012882948\n",
      "Epoch: 19, Batch: 20, Avg. Loss: 0.014223700296133757\n",
      "Epoch: 19, Batch: 30, Avg. Loss: 0.012170435581356286\n",
      "Epoch: 19, Batch: 40, Avg. Loss: 0.011912179086357355\n",
      "Epoch: 19, Batch: 50, Avg. Loss: 0.010893210722133517\n",
      "Epoch: 19, Batch: 60, Avg. Loss: 0.01198509093374014\n",
      "Epoch: 19, Batch: 70, Avg. Loss: 0.011439277976751327\n",
      "Epoch: 19, Batch: 80, Avg. Loss: 0.012657252652570606\n",
      "Epoch: 19, Batch: 90, Avg. Loss: 0.01572450464591384\n",
      "Epoch: 19, Batch: 100, Avg. Loss: 0.01191025460138917\n",
      "Epoch: 19, Batch: 110, Avg. Loss: 0.012319851433858275\n",
      "Epoch: 19, Batch: 120, Avg. Loss: 0.010044074198231102\n",
      "Epoch: 19, Batch: 130, Avg. Loss: 0.020694925636053085\n",
      "Epoch: 19, Batch: 140, Avg. Loss: 0.012745613977313042\n",
      "Epoch: 19, Batch: 150, Avg. Loss: 0.010932390904054045\n",
      "Epoch: 19, Batch: 160, Avg. Loss: 0.01181488917209208\n",
      "Epoch: 19, Batch: 170, Avg. Loss: 0.012407343089580535\n",
      "Epoch: 19, Batch: 180, Avg. Loss: 0.010246912250295281\n",
      "Epoch: 19, Batch: 190, Avg. Loss: 0.009860441414639353\n",
      "Epoch: 19, Batch: 200, Avg. Loss: 0.011086584301665425\n",
      "Epoch: 19, Batch: 210, Avg. Loss: 0.010509968921542167\n",
      "Epoch: 19, Batch: 220, Avg. Loss: 0.011677598906680941\n",
      "Epoch: 19, Batch: 230, Avg. Loss: 0.013453342998400331\n",
      "Epoch: 19, Batch: 240, Avg. Loss: 0.01054463256150484\n",
      "Epoch: 19, Batch: 250, Avg. Loss: 0.014838861022144555\n",
      "Epoch: 19, Batch: 260, Avg. Loss: 0.011442151293158532\n",
      "Epoch: 19, Batch: 270, Avg. Loss: 0.019854561565443872\n",
      "Epoch: 19, Batch: 280, Avg. Loss: 0.01241276105865836\n",
      "Epoch: 19, Batch: 290, Avg. Loss: 0.010361432703211904\n",
      "Epoch: 19, Batch: 300, Avg. Loss: 0.012270352244377137\n",
      "Epoch: 19, Batch: 310, Avg. Loss: 0.010798176703974604\n",
      "Epoch: 19, Batch: 320, Avg. Loss: 0.012662185868248344\n",
      "Epoch: 19, Batch: 330, Avg. Loss: 0.014733376679942012\n",
      "Epoch: 19, Batch: 340, Avg. Loss: 0.010119152255356312\n",
      "Epoch: 20, Batch: 10, Avg. Loss: 0.010450150724500418\n",
      "Epoch: 20, Batch: 20, Avg. Loss: 0.011614550510421396\n",
      "Epoch: 20, Batch: 30, Avg. Loss: 0.010658612800762057\n",
      "Epoch: 20, Batch: 40, Avg. Loss: 0.012572125159204006\n",
      "Epoch: 20, Batch: 50, Avg. Loss: 0.009794185915961862\n",
      "Epoch: 20, Batch: 60, Avg. Loss: 0.015225701499730349\n",
      "Epoch: 20, Batch: 70, Avg. Loss: 0.01075896630063653\n",
      "Epoch: 20, Batch: 80, Avg. Loss: 0.010209662886336447\n",
      "Epoch: 20, Batch: 90, Avg. Loss: 0.013693879591301084\n",
      "Epoch: 20, Batch: 100, Avg. Loss: 0.01707370881922543\n",
      "Epoch: 20, Batch: 110, Avg. Loss: 0.009887944301590323\n",
      "Epoch: 20, Batch: 120, Avg. Loss: 0.009776618750765919\n",
      "Epoch: 20, Batch: 130, Avg. Loss: 0.012617582315579056\n",
      "Epoch: 20, Batch: 140, Avg. Loss: 0.013148806057870388\n",
      "Epoch: 20, Batch: 150, Avg. Loss: 0.013645600341260434\n",
      "Epoch: 20, Batch: 160, Avg. Loss: 0.01576841250061989\n",
      "Epoch: 20, Batch: 170, Avg. Loss: 0.01745166555047035\n",
      "Epoch: 20, Batch: 180, Avg. Loss: 0.012471775338053704\n",
      "Epoch: 20, Batch: 190, Avg. Loss: 0.013572199363261461\n",
      "Epoch: 20, Batch: 200, Avg. Loss: 0.012094537448137998\n",
      "Epoch: 20, Batch: 210, Avg. Loss: 0.011535974591970444\n",
      "Epoch: 20, Batch: 220, Avg. Loss: 0.012685315078124404\n",
      "Epoch: 20, Batch: 230, Avg. Loss: 0.010365145653486252\n",
      "Epoch: 20, Batch: 240, Avg. Loss: 0.019738186709582807\n",
      "Epoch: 20, Batch: 250, Avg. Loss: 0.011617214977741241\n",
      "Epoch: 20, Batch: 260, Avg. Loss: 0.011024350346997381\n",
      "Epoch: 20, Batch: 270, Avg. Loss: 0.010331646166741848\n",
      "Epoch: 20, Batch: 280, Avg. Loss: 0.012383344396948815\n",
      "Epoch: 20, Batch: 290, Avg. Loss: 0.011329717561602592\n",
      "Epoch: 20, Batch: 300, Avg. Loss: 0.010776718985289336\n",
      "Epoch: 20, Batch: 310, Avg. Loss: 0.011800114996731281\n",
      "Epoch: 20, Batch: 320, Avg. Loss: 0.015311316680163145\n",
      "Epoch: 20, Batch: 330, Avg. Loss: 0.015472331549972296\n",
      "Epoch: 20, Batch: 340, Avg. Loss: 0.010984650533646344\n",
      "Finished Training\n"
     ]
    }
   ],
   "source": [
    "# train your network\n",
    "n_epochs = 20 # start small, and increase when you've decided on your model structure and hyperparams\n",
    "\n",
    "# this is a Workspaces-specific context manager to keep the connection\n",
    "# alive while training your model, not part of pytorch\n",
    "with active_session():\n",
    "    train_net(n_epochs)"
   ]
  },
  {
   "cell_type": "markdown",
   "metadata": {},
   "source": [
    "## Test data\n",
    "\n",
    "See how your model performs on previously unseen, test data. We've already loaded and transformed this data, similar to the training data. Next, run your trained model on these images to see what kind of keypoints are produced. You should be able to see if your model is fitting each new face it sees, if the points are distributed randomly, or if the points have actually overfitted the training data and do not generalize."
   ]
  },
  {
   "cell_type": "code",
   "execution_count": 17,
   "metadata": {},
   "outputs": [
    {
     "name": "stdout",
     "output_type": "stream",
     "text": [
      "torch.Size([10, 1, 96, 96])\n",
      "torch.Size([10, 68, 2])\n",
      "torch.Size([10, 68, 2])\n"
     ]
    }
   ],
   "source": [
    "# get a sample of test data again\n",
    "test_images, test_outputs, gt_pts = net_sample_output()\n",
    "\n",
    "print(test_images.data.size())\n",
    "print(test_outputs.data.size())\n",
    "print(gt_pts.size())"
   ]
  },
  {
   "cell_type": "code",
   "execution_count": 18,
   "metadata": {},
   "outputs": [
    {
     "data": {
      "image/png": "[encoded data removed]",
      "text/plain": [
       "<matplotlib.figure.Figure at 0x7f4e1fb3a978>"
      ]
     },
     "metadata": {
      "needs_background": "light"
     },
     "output_type": "display_data"
    },
    {
     "data": {
      "image/png": "[encoded data removed]",
      "text/plain": [
       "<matplotlib.figure.Figure at 0x7f4e2d1c0b00>"
      ]
     },
     "metadata": {
      "needs_background": "light"
     },
     "output_type": "display_data"
    },
    {
     "data": {
      "image/png": "[encoded data removed]",
      "text/plain": [
       "<matplotlib.figure.Figure at 0x7f4e2d1d47b8>"
      ]
     },
     "metadata": {
      "needs_background": "light"
     },
     "output_type": "display_data"
    },
    {
     "data": {
      "image/png": "[encoded data removed]",
      "text/plain": [
       "<matplotlib.figure.Figure at 0x7f4e2d136c88>"
      ]
     },
     "metadata": {
      "needs_background": "light"
     },
     "output_type": "display_data"
    },
    {
     "data": {
      "image/png": "[encoded data removed]",
      "text/plain": [
       "<matplotlib.figure.Figure at 0x7f4e2d0ff4e0>"
      ]
     },
     "metadata": {
      "needs_background": "light"
     },
     "output_type": "display_data"
    },
    {
     "data": {
      "image/png": "[encoded data removed]",
      "text/plain": [
       "<matplotlib.figure.Figure at 0x7f4e2d0be208>"
      ]
     },
     "metadata": {
      "needs_background": "light"
     },
     "output_type": "display_data"
    },
    {
     "data": {
      "image/png": "[encoded data removed]",
      "text/plain": [
       "<matplotlib.figure.Figure at 0x7f4e2d0f6dd8>"
      ]
     },
     "metadata": {
      "needs_background": "light"
     },
     "output_type": "display_data"
    },
    {
     "data": {
      "image/png": "[encoded data removed]",
      "text/plain": [
       "<matplotlib.figure.Figure at 0x7f4e2d038080>"
      ]
     },
     "metadata": {
      "needs_background": "light"
     },
     "output_type": "display_data"
    },
    {
     "data": {
      "image/png": "[encoded data removed]",
      "text/plain": [
       "<matplotlib.figure.Figure at 0x7f4e2cff9198>"
      ]
     },
     "metadata": {
      "needs_background": "light"
     },
     "output_type": "display_data"
    },
    {
     "data": {
      "image/png": "[encoded data removed]",
      "text/plain": [
       "<matplotlib.figure.Figure at 0x7f4e2cfbc748>"
      ]
     },
     "metadata": {
      "needs_background": "light"
     },
     "output_type": "display_data"
    }
   ],
   "source": [
    "## TODO: visualize your test output\n",
    "# you can use the same function as before, by un-commenting the line below:\n",
    "\n",
    "visualize_output(test_images, test_outputs, gt_pts)\n"
   ]
  },
  {
   "cell_type": "markdown",
   "metadata": {},
   "source": [
    "Once you've found a good model (or two), save your model so you can load it and use it later!\n",
    "\n",
    "Save your models but please **delete any checkpoints and saved models before you submit your project** otherwise your workspace may be too large to submit."
   ]
  },
  {
   "cell_type": "code",
   "execution_count": 19,
   "metadata": {},
   "outputs": [],
   "source": [
    "## TODO: change the name to something uniqe for each new model\n",
    "model_dir = 'saved_models/'\n",
    "model_name = 'keypoints_model_1.pt'\n",
    "\n",
    "# after training, save your model parameters in the dir 'saved_models'\n",
    "torch.save(net.state_dict(), model_dir+model_name)"
   ]
  },
  {
   "cell_type": "markdown",
   "metadata": {},
   "source": [
    "After you've trained a well-performing model, answer the following questions so that we have some insight into your training and architecture selection process. Answering all questions is required to pass this project."
   ]
  },
  {
   "cell_type": "markdown",
   "metadata": {},
   "source": [
    "### Question 1: What optimization and loss functions did you choose and why?\n"
   ]
  },
  {
   "cell_type": "markdown",
   "metadata": {},
   "source": [
    "**Answer**: write your answer here (double click to edit this cell)"
   ]
  },
  {
   "cell_type": "markdown",
   "metadata": {},
   "source": [
    "### Question 2: What kind of network architecture did you start with and how did it change as you tried different architectures? Did you decide to add more convolutional layers or any layers to avoid overfitting the data?"
   ]
  },
  {
   "cell_type": "markdown",
   "metadata": {},
   "source": [
    "**Answer**: write your answer here"
   ]
  },
  {
   "cell_type": "markdown",
   "metadata": {},
   "source": [
    "### Question 3: How did you decide on the number of epochs and batch_size to train your model?"
   ]
  },
  {
   "cell_type": "markdown",
   "metadata": {},
   "source": [
    "**Answer**: write your answer here"
   ]
  },
  {
   "cell_type": "markdown",
   "metadata": {},
   "source": [
    "## Feature Visualization\n",
    "\n",
    "Sometimes, neural networks are thought of as a black box, given some input, they learn to produce some output. CNN's are actually learning to recognize a variety of spatial patterns and you can visualize what each convolutional layer has been trained to recognize by looking at the weights that make up each convolutional kernel and applying those one at a time to a sample image. This technique is called feature visualization and it's useful for understanding the inner workings of a CNN."
   ]
  },
  {
   "cell_type": "markdown",
   "metadata": {},
   "source": [
    "In the cell below, you can see how to extract a single filter (by index) from your first convolutional layer. The filter should appear as a grayscale grid."
   ]
  },
  {
   "cell_type": "code",
   "execution_count": 20,
   "metadata": {},
   "outputs": [
    {
     "name": "stdout",
     "output_type": "stream",
     "text": [
      "[[-0.02795352  0.13095948 -0.04031492  0.05345868 -0.13505496]\n",
      " [ 0.18994008  0.16689232 -0.06155428 -0.19486721 -0.03122713]\n",
      " [-0.16746077  0.16290992 -0.1287273   0.07060839 -0.1098154 ]\n",
      " [ 0.1713125   0.13409288  0.1012015  -0.11105015 -0.0052445 ]\n",
      " [ 0.10586554 -0.08871407 -0.15361783  0.09722791 -0.12705655]]\n",
      "(5, 5)\n"
     ]
    },
    {
     "data": {
      "text/plain": [
       "<matplotlib.image.AxesImage at 0x7f4e2ced2780>"
      ]
     },
     "execution_count": 20,
     "metadata": {},
     "output_type": "execute_result"
    },
    {
     "data": {
      "image/png": "[encoded data removed]",
      "text/plain": [
       "<matplotlib.figure.Figure at 0x7f4e2cf22898>"
      ]
     },
     "metadata": {
      "needs_background": "light"
     },
     "output_type": "display_data"
    }
   ],
   "source": [
    "# Get the weights in the first conv layer, \"conv1\"\n",
    "# if necessary, change this to reflect the name of your first conv layer\n",
    "weights1 = net.conv1.weight.data\n",
    "\n",
    "w = weights1.numpy()\n",
    "\n",
    "filter_index = 0\n",
    "\n",
    "print(w[filter_index][0])\n",
    "print(w[filter_index][0].shape)\n",
    "\n",
    "# display the filter weights\n",
    "plt.imshow(w[filter_index][0], cmap='gray')\n"
   ]
  },
  {
   "cell_type": "markdown",
   "metadata": {},
   "source": [
    "## Feature maps\n",
    "\n",
    "Each CNN has at least one convolutional layer that is composed of stacked filters (also known as convolutional kernels). As a CNN trains, it learns what weights to include in it's convolutional kernels and when these kernels are applied to some input image, they produce a set of **feature maps**. So, feature maps are just sets of filtered images; they are the images produced by applying a convolutional kernel to an input image. These maps show us the features that the different layers of the neural network learn to extract. For example, you might imagine a convolutional kernel that detects the vertical edges of a face or another one that detects the corners of eyes. You can see what kind of features each of these kernels detects by applying them to an image. One such example is shown below; from the way it brings out the lines in an the image, you might characterize this as an edge detection filter.\n",
    "\n",
    "<img src='images/feature_map_ex.png' width=50% height=50%/>\n",
    "\n",
    "\n",
    "Next, choose a test image and filter it with one of the convolutional kernels in your trained CNN; look at the filtered output to get an idea what that particular kernel detects.\n",
    "\n",
    "### TODO: Filter an image to see the effect of a convolutional kernel\n",
    "---"
   ]
  },
  {
   "cell_type": "code",
   "execution_count": 21,
   "metadata": {},
   "outputs": [],
   "source": [
    "##TODO: load in and display any image from the transformed test dataset\n",
    "\n",
    "## TODO: Using cv's filter2D function,\n",
    "## apply a specific set of filter weights (like the one displayed above) to the test image\n"
   ]
  },
  {
   "cell_type": "markdown",
   "metadata": {},
   "source": [
    "### Question 4: Choose one filter from your trained CNN and apply it to a test image; what purpose do you think it plays? What kind of feature do you think it detects?\n"
   ]
  },
  {
   "cell_type": "markdown",
   "metadata": {},
   "source": [
    "**Answer**: (does it detect vertical lines or does it blur out noise, etc.) write your answer here"
   ]
  },
  {
   "cell_type": "markdown",
   "metadata": {},
   "source": [
    "---\n",
    "## Moving on!\n",
    "\n",
    "Now that you've defined and trained your model (and saved the best model), you are ready to move on to the last notebook, which combines a face detector with your saved model to create a facial keypoint detection system that can predict the keypoints on *any* face in an image!"
   ]
  }
 ],
 "metadata": {
  "kernelspec": {
   "display_name": "Python 3",
   "language": "python",
   "name": "python3"
  },
  "language_info": {
   "codemirror_mode": {
    "name": "ipython",
    "version": 3
   },
   "file_extension": ".py",
   "mimetype": "text/x-python",
   "name": "python",
   "nbconvert_exporter": "python",
   "pygments_lexer": "ipython3",
   "version": "3.6.3"
  }
 },
 "nbformat": 4,
 "nbformat_minor": 2
}
